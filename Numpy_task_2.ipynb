{
  "cells": [
    {
      "cell_type": "markdown",
      "metadata": {
        "id": "view-in-github",
        "colab_type": "text"
      },
      "source": [
        "<a href=\"https://colab.research.google.com/github/iamsonia9/iamsonia9/blob/main/Numpy_task_2.ipynb\" target=\"_parent\"><img src=\"https://colab.research.google.com/assets/colab-badge.svg\" alt=\"Open In Colab\"/></a>"
      ]
    },
    {
      "cell_type": "markdown",
      "metadata": {
        "id": "Mz7BKHpbjlI2"
      },
      "source": [
        "# Numpy\n",
        "\n"
      ]
    },
    {
      "cell_type": "markdown",
      "metadata": {
        "id": "VyUS8S_qjlJH"
      },
      "source": [
        "#### 1. Import the numpy package under the name `np` (★☆☆) \n",
        "(**hint**: import … as …)"
      ]
    },
    {
      "cell_type": "code",
      "execution_count": 4,
      "metadata": {
        "collapsed": true,
        "id": "6_7hlSoCjlJL"
      },
      "outputs": [],
      "source": [
        "import numpy as np"
      ]
    },
    {
      "cell_type": "markdown",
      "metadata": {
        "id": "3Kilf5XfjlJO"
      },
      "source": [
        "#### 2. Print the numpy version and the configuration (★☆☆) \n",
        "(**hint**: np.\\_\\_version\\_\\_, np.show\\_config)"
      ]
    },
    {
      "cell_type": "code",
      "execution_count": null,
      "metadata": {
        "id": "2MZB2XKwjlJR",
        "colab": {
          "base_uri": "https://localhost:8080/",
          "height": 36
        },
        "outputId": "23edbea8-abad-4a91-85ee-fe99f1d42e52"
      },
      "outputs": [
        {
          "output_type": "execute_result",
          "data": {
            "text/plain": [
              "'1.21.6'"
            ],
            "application/vnd.google.colaboratory.intrinsic+json": {
              "type": "string"
            }
          },
          "metadata": {},
          "execution_count": 2
        }
      ],
      "source": [
        "np.__version__\n",
        "np.show_config()"
      ]
    },
    {
      "cell_type": "markdown",
      "metadata": {
        "id": "HJvegHgfjlJT"
      },
      "source": [
        "#### 3. Create a null vector of size 10 (★☆☆) \n",
        "(**hint**: np.zeros)"
      ]
    },
    {
      "cell_type": "code",
      "execution_count": null,
      "metadata": {
        "id": "MxXasvnzjlJV",
        "colab": {
          "base_uri": "https://localhost:8080/"
        },
        "outputId": "f26668ef-0357-4114-91ae-19707014f6b5"
      },
      "outputs": [
        {
          "output_type": "stream",
          "name": "stdout",
          "text": [
            "[0. 0. 0. 0. 0. 0. 0. 0. 0. 0.]\n"
          ]
        }
      ],
      "source": [
        "x = np.zeros(10)\n",
        "print(x)"
      ]
    },
    {
      "cell_type": "markdown",
      "metadata": {
        "id": "8VqB5D4MjlJX"
      },
      "source": [
        "#### 4.  How to find the memory size of any array (★☆☆) \n",
        "(**hint**: size, itemsize)"
      ]
    },
    {
      "cell_type": "code",
      "execution_count": null,
      "metadata": {
        "id": "ldmBsRDljlJa",
        "colab": {
          "base_uri": "https://localhost:8080/"
        },
        "outputId": "accca0ff-24ff-4cac-ddbd-86f1add60cd7"
      },
      "outputs": [
        {
          "output_type": "stream",
          "name": "stdout",
          "text": [
            "128 bytes\n"
          ]
        }
      ],
      "source": [
        "n = np.zeros((4,4))\n",
        "print(\"%d bytes\" %(n.size*n.itemsize))"
      ]
    },
    {
      "cell_type": "markdown",
      "metadata": {
        "id": "j0a0KulXjlJc"
      },
      "source": [
        "#### 5.  How to get the documentation of the numpy add function from the command line? (★☆☆) \n",
        "(**hint**: np.info)"
      ]
    },
    {
      "cell_type": "code",
      "execution_count": null,
      "metadata": {
        "collapsed": true,
        "id": "4miJAbXMjlJe",
        "colab": {
          "base_uri": "https://localhost:8080/"
        },
        "outputId": "f357a002-ff07-4794-be07-a20a8222ab16"
      },
      "outputs": [
        {
          "output_type": "stream",
          "name": "stdout",
          "text": [
            "add(x1, x2, /, out=None, *, where=True, casting='same_kind', order='K', dtype=None, subok=True[, signature, extobj])\n",
            "\n",
            "Add arguments element-wise.\n",
            "\n",
            "Parameters\n",
            "----------\n",
            "x1, x2 : array_like\n",
            "    The arrays to be added.\n",
            "    If ``x1.shape != x2.shape``, they must be broadcastable to a common\n",
            "    shape (which becomes the shape of the output).\n",
            "out : ndarray, None, or tuple of ndarray and None, optional\n",
            "    A location into which the result is stored. If provided, it must have\n",
            "    a shape that the inputs broadcast to. If not provided or None,\n",
            "    a freshly-allocated array is returned. A tuple (possible only as a\n",
            "    keyword argument) must have length equal to the number of outputs.\n",
            "where : array_like, optional\n",
            "    This condition is broadcast over the input. At locations where the\n",
            "    condition is True, the `out` array will be set to the ufunc result.\n",
            "    Elsewhere, the `out` array will retain its original value.\n",
            "    Note that if an uninitialized `out` array is created via the default\n",
            "    ``out=None``, locations within it where the condition is False will\n",
            "    remain uninitialized.\n",
            "**kwargs\n",
            "    For other keyword-only arguments, see the\n",
            "    :ref:`ufunc docs <ufuncs.kwargs>`.\n",
            "\n",
            "Returns\n",
            "-------\n",
            "add : ndarray or scalar\n",
            "    The sum of `x1` and `x2`, element-wise.\n",
            "    This is a scalar if both `x1` and `x2` are scalars.\n",
            "\n",
            "Notes\n",
            "-----\n",
            "Equivalent to `x1` + `x2` in terms of array broadcasting.\n",
            "\n",
            "Examples\n",
            "--------\n",
            ">>> np.add(1.0, 4.0)\n",
            "5.0\n",
            ">>> x1 = np.arange(9.0).reshape((3, 3))\n",
            ">>> x2 = np.arange(3.0)\n",
            ">>> np.add(x1, x2)\n",
            "array([[  0.,   2.,   4.],\n",
            "       [  3.,   5.,   7.],\n",
            "       [  6.,   8.,  10.]])\n",
            "\n",
            "The ``+`` operator can be used as a shorthand for ``np.add`` on ndarrays.\n",
            "\n",
            ">>> x1 = np.arange(9.0).reshape((3, 3))\n",
            ">>> x2 = np.arange(3.0)\n",
            ">>> x1 + x2\n",
            "array([[ 0.,  2.,  4.],\n",
            "       [ 3.,  5.,  7.],\n",
            "       [ 6.,  8., 10.]])\n",
            "None\n"
          ]
        }
      ],
      "source": [
        "print(np.info(np.add))"
      ]
    },
    {
      "cell_type": "markdown",
      "metadata": {
        "id": "dn5wyzjhjlJf"
      },
      "source": [
        "#### 6.  Create a null vector of size 10 but the fifth value which is 1 (★☆☆) \n",
        "(**hint**: array\\[4\\])"
      ]
    },
    {
      "cell_type": "code",
      "execution_count": null,
      "metadata": {
        "id": "qSn95ciwjlJh",
        "colab": {
          "base_uri": "https://localhost:8080/"
        },
        "outputId": "90c751bb-3c91-42ef-c5ac-a43132bc30df"
      },
      "outputs": [
        {
          "output_type": "stream",
          "name": "stdout",
          "text": [
            "[0. 0. 0. 0. 1. 0. 0. 0. 0. 0.]\n"
          ]
        }
      ],
      "source": [
        "x = np.zeros(10)\n",
        "x[4]=1\n",
        "print(x)"
      ]
    },
    {
      "cell_type": "markdown",
      "metadata": {
        "id": "hSN3wQjGjlJj"
      },
      "source": [
        "#### 7.  Create a vector with values ranging from 10 to 49 (★☆☆) \n",
        "(**hint**: np.arange)"
      ]
    },
    {
      "cell_type": "code",
      "execution_count": null,
      "metadata": {
        "id": "KVMDYNsmjlJm",
        "colab": {
          "base_uri": "https://localhost:8080/"
        },
        "outputId": "006ee6d0-06a6-429b-9130-6e963a67541c"
      },
      "outputs": [
        {
          "output_type": "stream",
          "name": "stdout",
          "text": [
            "[10 11 12 13 14 15 16 17 18 19 20 21 22 23 24 25 26 27 28 29 30 31 32 33\n",
            " 34 35 36 37 38 39 40 41 42 43 44 45 46 47 48 49]\n"
          ]
        }
      ],
      "source": [
        "v = np.arange(10,50)\n",
        "print(v)"
      ]
    },
    {
      "cell_type": "markdown",
      "metadata": {
        "id": "H6lZSaQ5jlJo"
      },
      "source": [
        "#### 8.  Reverse a vector (first element becomes last) (★☆☆) \n",
        "(**hint**: array\\[::-1\\])"
      ]
    },
    {
      "cell_type": "code",
      "execution_count": null,
      "metadata": {
        "id": "xom8k7BfjlJp",
        "colab": {
          "base_uri": "https://localhost:8080/"
        },
        "outputId": "a9af437e-caa9-413e-a81e-d5be457b9588"
      },
      "outputs": [
        {
          "output_type": "stream",
          "name": "stdout",
          "text": [
            "[39 38 37 36 35 34 33 32 31 30 29 28 27 26 25 24 23 22 21 20 19 18 17 16\n",
            " 15 14 13 12 11 10]\n"
          ]
        }
      ],
      "source": [
        "x = np.arange(10,40)\n",
        "x = x[::-1]\n",
        "print(x)\n"
      ]
    },
    {
      "cell_type": "markdown",
      "metadata": {
        "id": "3FkpZJR8jlJq"
      },
      "source": [
        "#### 9.  Create a 3x3 matrix with values ranging from 0 to 8 (★☆☆) \n",
        "(**hint**: reshape)"
      ]
    },
    {
      "cell_type": "code",
      "execution_count": null,
      "metadata": {
        "id": "f7pmN9wJjlJr",
        "colab": {
          "base_uri": "https://localhost:8080/"
        },
        "outputId": "b1f78514-1a1d-40d2-9647-d78d0321d7b9"
      },
      "outputs": [
        {
          "output_type": "stream",
          "name": "stdout",
          "text": [
            "[[0 1 2]\n",
            " [3 4 5]\n",
            " [6 7 8]]\n"
          ]
        }
      ],
      "source": [
        "x = np.arange(9).reshape(3,3)\n",
        "print(x)"
      ]
    },
    {
      "cell_type": "markdown",
      "metadata": {
        "id": "aaQAYx1sjlJs"
      },
      "source": [
        "#### 10. Find indices of non-zero elements from \\[1,2,0,0,4,0\\] (★☆☆) \n",
        "(**hint**: np.nonzero)"
      ]
    },
    {
      "cell_type": "code",
      "execution_count": null,
      "metadata": {
        "id": "mWo_BswkjlJu",
        "colab": {
          "base_uri": "https://localhost:8080/"
        },
        "outputId": "c91e81ab-2173-4767-d92f-9b113fd0ca87"
      },
      "outputs": [
        {
          "output_type": "stream",
          "name": "stdout",
          "text": [
            "(array([0, 1, 4]),)\n"
          ]
        }
      ],
      "source": [
        "n = np.nonzero([1,2,0,0,4,0])\n",
        "print(n)"
      ]
    },
    {
      "cell_type": "markdown",
      "metadata": {
        "id": "QV0g-A0VjlJv"
      },
      "source": [
        "#### 11. Create a 3x3 identity matrix (★☆☆) \n",
        "(**hint**: np.eye)"
      ]
    },
    {
      "cell_type": "code",
      "execution_count": null,
      "metadata": {
        "id": "ghs0wvwCjlJw",
        "colab": {
          "base_uri": "https://localhost:8080/"
        },
        "outputId": "a9386a7b-a29d-4f0d-fb1d-3ae79055b22f"
      },
      "outputs": [
        {
          "output_type": "stream",
          "name": "stdout",
          "text": [
            "[[1. 0. 0.]\n",
            " [0. 1. 0.]\n",
            " [0. 0. 1.]]\n"
          ]
        }
      ],
      "source": [
        "z = np.eye(3)\n",
        "print(z)"
      ]
    },
    {
      "cell_type": "markdown",
      "metadata": {
        "id": "1jEAPx4KjlJx"
      },
      "source": [
        "#### 12. Create a 3x3x3 array with random values (★☆☆) \n",
        "(**hint**: np.random.random)"
      ]
    },
    {
      "cell_type": "code",
      "execution_count": null,
      "metadata": {
        "collapsed": true,
        "id": "37ESmKxxjlJx",
        "colab": {
          "base_uri": "https://localhost:8080/"
        },
        "outputId": "e97a6c89-e6d0-494a-8d36-9ebc80a04a90"
      },
      "outputs": [
        {
          "output_type": "execute_result",
          "data": {
            "text/plain": [
              "array([[[0.9402163 , 0.9684068 , 0.7876507 ],\n",
              "        [0.13400738, 0.94172415, 0.32781373],\n",
              "        [0.85348471, 0.47456335, 0.60758684]],\n",
              "\n",
              "       [[0.58948688, 0.07029197, 0.0215811 ],\n",
              "        [0.14724454, 0.50844538, 0.07925641],\n",
              "        [0.26136398, 0.95158826, 0.14796886]],\n",
              "\n",
              "       [[0.75052016, 0.77554216, 0.2361165 ],\n",
              "        [0.82364727, 0.09433654, 0.4209852 ],\n",
              "        [0.21315173, 0.52527289, 0.95677215]]])"
            ]
          },
          "metadata": {},
          "execution_count": 18
        }
      ],
      "source": [
        "x = np.random.random((3,3,3))\n",
        "x"
      ]
    },
    {
      "cell_type": "markdown",
      "metadata": {
        "id": "Gk1CxN9AjlJz"
      },
      "source": [
        "#### 13. Create a 10x10 array with random values and find the minimum and maximum values (★☆☆) \n",
        "(**hint**: min, max)"
      ]
    },
    {
      "cell_type": "code",
      "execution_count": null,
      "metadata": {
        "id": "h929jwEfjlJ0",
        "colab": {
          "base_uri": "https://localhost:8080/"
        },
        "outputId": "7933ade6-78e1-4167-9d9b-12e646e6ee74"
      },
      "outputs": [
        {
          "output_type": "stream",
          "name": "stdout",
          "text": [
            "[[0.22448268 0.37190556 0.44083883 0.98076847 0.47381481 0.76412462\n",
            "  0.69111368 0.54169012 0.90132198 0.96306086]\n",
            " [0.00152125 0.26616212 0.45163166 0.62391559 0.43028014 0.58278047\n",
            "  0.77332339 0.68553362 0.27890306 0.6390379 ]\n",
            " [0.01060606 0.72502237 0.25488995 0.29110062 0.54402301 0.18604386\n",
            "  0.26039572 0.02581017 0.08887332 0.60161977]\n",
            " [0.94144498 0.35970463 0.56579652 0.95197159 0.82023286 0.37289782\n",
            "  0.46803801 0.74612156 0.88807569 0.47827799]\n",
            " [0.95868093 0.50080778 0.79612058 0.4831296  0.46710548 0.05343815\n",
            "  0.49864883 0.08785418 0.7225942  0.6107339 ]\n",
            " [0.43736657 0.43477367 0.83839331 0.27798424 0.51167835 0.62589655\n",
            "  0.63930205 0.51298668 0.87911931 0.18886883]\n",
            " [0.40547425 0.67620038 0.39812979 0.66952109 0.82502282 0.21280102\n",
            "  0.59851026 0.35848666 0.08586663 0.13039285]\n",
            " [0.81921178 0.00248894 0.91418791 0.47586971 0.79201733 0.20866395\n",
            "  0.805266   0.30353797 0.17309123 0.05779425]\n",
            " [0.23659161 0.63472629 0.77644258 0.31078936 0.71972167 0.55939264\n",
            "  0.79392273 0.73927642 0.57350439 0.99723262]\n",
            " [0.26188797 0.73595966 0.96231831 0.136614   0.69005989 0.46003832\n",
            "  0.7292543  0.45208951 0.30558463 0.08234703]]\n",
            "Minimum and Maximum values\n",
            "0.001521253336257966 0.9972326230187398\n"
          ]
        }
      ],
      "source": [
        "x = np.random.random((10,10))\n",
        "print(x)\n",
        "xmin,xmax = x.min(), x.max()\n",
        "print(\"Minimum and Maximum values\")\n",
        "print(xmin,xmax)"
      ]
    },
    {
      "cell_type": "markdown",
      "metadata": {
        "id": "1jaP8xHOjlJ1"
      },
      "source": [
        "#### 14. Create a random vector of size 30 and find the mean value (★☆☆) \n",
        "(**hint**: mean)"
      ]
    },
    {
      "cell_type": "code",
      "execution_count": null,
      "metadata": {
        "id": "FD6PKym8jlJ2",
        "colab": {
          "base_uri": "https://localhost:8080/"
        },
        "outputId": "7d974d6e-af12-4997-c1c7-a157f2dc59b6"
      },
      "outputs": [
        {
          "output_type": "stream",
          "name": "stdout",
          "text": [
            "0.5020460916816624\n"
          ]
        }
      ],
      "source": [
        "z = np.random.random(30)\n",
        "m = z.mean()\n",
        "print(m)"
      ]
    },
    {
      "cell_type": "markdown",
      "metadata": {
        "id": "JCrAb6utjlJ2"
      },
      "source": [
        "#### 15. Create a 2d array with 1 on the border and 0 inside (★☆☆) \n",
        "(**hint**: array\\[1:-1, 1:-1\\])"
      ]
    },
    {
      "cell_type": "code",
      "execution_count": null,
      "metadata": {
        "id": "ne81De8YjlJ3",
        "colab": {
          "base_uri": "https://localhost:8080/"
        },
        "outputId": "71a0b705-b216-42f9-ab84-176a557ecc98"
      },
      "outputs": [
        {
          "output_type": "stream",
          "name": "stdout",
          "text": [
            "[[1. 1. 1. 1. 1. 1. 1. 1. 1. 1.]\n",
            " [1. 0. 0. 0. 0. 0. 0. 0. 0. 1.]\n",
            " [1. 0. 0. 0. 0. 0. 0. 0. 0. 1.]\n",
            " [1. 0. 0. 0. 0. 0. 0. 0. 0. 1.]\n",
            " [1. 0. 0. 0. 0. 0. 0. 0. 0. 1.]\n",
            " [1. 0. 0. 0. 0. 0. 0. 0. 0. 1.]\n",
            " [1. 0. 0. 0. 0. 0. 0. 0. 0. 1.]\n",
            " [1. 0. 0. 0. 0. 0. 0. 0. 0. 1.]\n",
            " [1. 0. 0. 0. 0. 0. 0. 0. 0. 1.]\n",
            " [1. 1. 1. 1. 1. 1. 1. 1. 1. 1.]]\n"
          ]
        }
      ],
      "source": [
        "Z = np.ones((10,10))\n",
        "Z[1:-1,1:-1] = 0\n",
        "print(Z)"
      ]
    },
    {
      "cell_type": "markdown",
      "metadata": {
        "id": "HJs6Xw8gjlJ4"
      },
      "source": [
        "#### 16. How to add a border (filled with 0's) around an existing array? (★☆☆) \n",
        "(**hint**: np.pad)"
      ]
    },
    {
      "cell_type": "code",
      "execution_count": null,
      "metadata": {
        "id": "84XLh7pfjlJ5",
        "colab": {
          "base_uri": "https://localhost:8080/"
        },
        "outputId": "3572e577-a30c-46aa-87e4-a19c62421e36"
      },
      "outputs": [
        {
          "output_type": "stream",
          "name": "stdout",
          "text": [
            "[[0. 0. 0. 0. 0. 0. 0.]\n",
            " [0. 1. 1. 1. 1. 1. 0.]\n",
            " [0. 1. 1. 1. 1. 1. 0.]\n",
            " [0. 1. 1. 1. 1. 1. 0.]\n",
            " [0. 1. 1. 1. 1. 1. 0.]\n",
            " [0. 1. 1. 1. 1. 1. 0.]\n",
            " [0. 0. 0. 0. 0. 0. 0.]]\n"
          ]
        }
      ],
      "source": [
        "z = np.ones((5,5))\n",
        "z = np.pad(z,pad_width=1, mode='constant',constant_values=0)\n",
        "print(z)"
      ]
    },
    {
      "cell_type": "markdown",
      "metadata": {
        "id": "_fnWB9ubjlJ5"
      },
      "source": [
        "#### 17. What is the result of the following expression? (★☆☆) \n",
        "(**hint**: NaN = not a number, inf = infinity)"
      ]
    },
    {
      "cell_type": "markdown",
      "metadata": {
        "id": "yZkHfaD2jlJ6"
      },
      "source": [
        "```python\n",
        "0 * np.nan\n",
        "np.nan == np.nan\n",
        "np.inf > np.nan\n",
        "np.nan - np.nan\n",
        "0.3 == 3 * 0.1\n",
        "```"
      ]
    },
    {
      "cell_type": "code",
      "execution_count": null,
      "metadata": {
        "id": "ZZQdxi4MjlJ7",
        "colab": {
          "base_uri": "https://localhost:8080/"
        },
        "outputId": "b6d467f1-d999-44c0-e720-e3908f50847b"
      },
      "outputs": [
        {
          "output_type": "stream",
          "name": "stdout",
          "text": [
            "nan\n",
            "False\n",
            "False\n",
            "nan\n",
            "False\n"
          ]
        }
      ],
      "source": [
        "print(0 * np.nan)\n",
        "print(np.nan == np.nan)\n",
        "print(np.inf > np.nan)\n",
        "print(np.nan - np.nan)\n",
        "print(0.3 == 3 * 0.1)"
      ]
    },
    {
      "cell_type": "markdown",
      "metadata": {
        "id": "bsVXxUurjlJ8"
      },
      "source": [
        "#### 18. Create a 5x5 matrix with values 1,2,3,4 just below the diagonal (★☆☆) \n",
        "(**hint**: np.diag)"
      ]
    },
    {
      "cell_type": "code",
      "execution_count": null,
      "metadata": {
        "id": "jp0JSBSQjlJ9",
        "colab": {
          "base_uri": "https://localhost:8080/"
        },
        "outputId": "60bd1e36-3e23-4b50-8451-e0e634e01e1a"
      },
      "outputs": [
        {
          "output_type": "stream",
          "name": "stdout",
          "text": [
            "[[0 0 0 0 0]\n",
            " [1 0 0 0 0]\n",
            " [0 2 0 0 0]\n",
            " [0 0 3 0 0]\n",
            " [0 0 0 4 0]]\n"
          ]
        }
      ],
      "source": [
        "z = np.diag(1+np.arange(4),k=-1)\n",
        "print(z)"
      ]
    },
    {
      "cell_type": "markdown",
      "metadata": {
        "id": "7B82QggcjlJ-"
      },
      "source": [
        "#### 19. Create a 8x8 matrix and fill it with a checkerboard pattern (★☆☆) \n",
        "(**hint**: array\\[::2\\])"
      ]
    },
    {
      "cell_type": "code",
      "execution_count": null,
      "metadata": {
        "id": "4vhvLKeajlJ_",
        "colab": {
          "base_uri": "https://localhost:8080/"
        },
        "outputId": "055876f8-2464-49ed-b1e0-c6d8ef59b021"
      },
      "outputs": [
        {
          "output_type": "stream",
          "name": "stdout",
          "text": [
            "[[0 1 0 1 0 1 0 1]\n",
            " [1 0 1 0 1 0 1 0]\n",
            " [0 1 0 1 0 1 0 1]\n",
            " [1 0 1 0 1 0 1 0]\n",
            " [0 1 0 1 0 1 0 1]\n",
            " [1 0 1 0 1 0 1 0]\n",
            " [0 1 0 1 0 1 0 1]\n",
            " [1 0 1 0 1 0 1 0]]\n"
          ]
        }
      ],
      "source": [
        "Z = np.zeros((8,8),dtype=int)\n",
        "Z[1::2,::2] = 1\n",
        "Z[::2,1::2] = 1\n",
        "print(Z)"
      ]
    },
    {
      "cell_type": "markdown",
      "metadata": {
        "id": "upJKtNFtjlJ_"
      },
      "source": [
        "#### 20. Consider a (6,7,8) shape array, what is the index (x,y,z) of the 100th element? \n",
        "(**hint**: np.unravel_index)"
      ]
    },
    {
      "cell_type": "code",
      "execution_count": null,
      "metadata": {
        "id": "GZYxc8kOjlKA",
        "colab": {
          "base_uri": "https://localhost:8080/"
        },
        "outputId": "18f9e4fa-63af-4639-8fb8-2cd31392867c"
      },
      "outputs": [
        {
          "output_type": "stream",
          "name": "stdout",
          "text": [
            "(1, 5, 4)\n"
          ]
        }
      ],
      "source": [
        "print(np.unravel_index(100,(6,7,8)))"
      ]
    },
    {
      "cell_type": "markdown",
      "metadata": {
        "id": "YQws7VM5jlKB"
      },
      "source": [
        "#### 21. Create a checkerboard 8x8 matrix using the tile function (★☆☆) \n",
        "(**hint**: np.tile)"
      ]
    },
    {
      "cell_type": "code",
      "execution_count": null,
      "metadata": {
        "id": "c4kTsPj-jlKC",
        "colab": {
          "base_uri": "https://localhost:8080/"
        },
        "outputId": "8636cc23-9dbb-49b3-890e-9186ea7b73d6"
      },
      "outputs": [
        {
          "output_type": "stream",
          "name": "stdout",
          "text": [
            "[[0 1 0 1 0 1 0 1]\n",
            " [1 0 1 0 1 0 1 0]\n",
            " [0 1 0 1 0 1 0 1]\n",
            " [1 0 1 0 1 0 1 0]\n",
            " [0 1 0 1 0 1 0 1]\n",
            " [1 0 1 0 1 0 1 0]\n",
            " [0 1 0 1 0 1 0 1]\n",
            " [1 0 1 0 1 0 1 0]]\n"
          ]
        }
      ],
      "source": [
        "z = np.tile(np.array([[0,1],[1,0]]),(4,4))\n",
        "print(z)"
      ]
    },
    {
      "cell_type": "markdown",
      "metadata": {
        "id": "ELu6n3TZjlKC"
      },
      "source": [
        "#### 22. Normalize a 5x5 random matrix (★☆☆) \n",
        "(**hint**: (x - min) / (max - min))"
      ]
    },
    {
      "cell_type": "code",
      "execution_count": null,
      "metadata": {
        "id": "7fHlRhIZjlKE",
        "colab": {
          "base_uri": "https://localhost:8080/"
        },
        "outputId": "a112f74c-f4a9-4b28-cf95-1f7bff230066"
      },
      "outputs": [
        {
          "output_type": "stream",
          "name": "stdout",
          "text": [
            "[[0.51244144 0.69431798 0.65239061 0.77743732 0.        ]\n",
            " [0.90736514 0.54020502 0.68034853 0.80136196 0.22958009]\n",
            " [1.         0.74139755 0.24658782 0.93555787 0.97544672]\n",
            " [0.16513533 0.05549021 0.53517039 0.95233622 0.42460117]\n",
            " [0.64482181 0.19811326 0.71649651 0.5198283  0.6188658 ]]\n"
          ]
        }
      ],
      "source": [
        "x = np.random.random((5,5))\n",
        "xmax,xmin=x.max(),x.min()\n",
        "x = (x-xmin)/(xmax-xmin)\n",
        "print(x)"
      ]
    },
    {
      "cell_type": "markdown",
      "metadata": {
        "id": "-xyR5kgFjlKF"
      },
      "source": [
        "#### 23. Create a custom dtype that describes a color as four unsigned bytes (RGBA) (★☆☆) \n",
        "(**hint**: np.dtype)"
      ]
    },
    {
      "cell_type": "code",
      "execution_count": null,
      "metadata": {
        "collapsed": true,
        "id": "4CyzY--NjlKF",
        "colab": {
          "base_uri": "https://localhost:8080/"
        },
        "outputId": "7a0d8f2e-c327-4e85-c8b7-a322f19a02d7"
      },
      "outputs": [
        {
          "output_type": "stream",
          "name": "stdout",
          "text": [
            "1\n"
          ]
        },
        {
          "output_type": "execute_result",
          "data": {
            "text/plain": [
              "numpy.ndarray"
            ]
          },
          "metadata": {},
          "execution_count": 38
        }
      ],
      "source": [
        "RGBA = np.dtype([('red',np.uint8),('green',np.uint8),('blue',np.uint8),('alpha',np.uint8)])\n",
        "color = np.array((1,2,4,3),dtype = RGBA)\n",
        "print(color['red'])\n",
        "type(color)"
      ]
    },
    {
      "cell_type": "markdown",
      "metadata": {
        "id": "_9lMNfFTjlKG"
      },
      "source": [
        "#### 24. Multiply a 5x3 matrix by a 3x2 matrix (real matrix product) (★☆☆) \n",
        "(**hint**: np.dot | @)"
      ]
    },
    {
      "cell_type": "code",
      "execution_count": null,
      "metadata": {
        "id": "fDWUYPprjlKH",
        "colab": {
          "base_uri": "https://localhost:8080/"
        },
        "outputId": "3efa9ab9-358b-4492-da4d-6f165c673c79"
      },
      "outputs": [
        {
          "output_type": "stream",
          "name": "stdout",
          "text": [
            "[[0.66508756 0.85204093]\n",
            " [0.16309892 0.29751873]\n",
            " [0.59298627 0.84835468]\n",
            " [0.69951894 0.59074312]\n",
            " [0.26260471 0.41532315]]\n"
          ]
        },
        {
          "output_type": "execute_result",
          "data": {
            "text/plain": [
              "array([[0.66508756, 0.85204093],\n",
              "       [0.16309892, 0.29751873],\n",
              "       [0.59298627, 0.84835468],\n",
              "       [0.69951894, 0.59074312],\n",
              "       [0.26260471, 0.41532315]])"
            ]
          },
          "metadata": {},
          "execution_count": 39
        }
      ],
      "source": [
        "arr_1 = np.random.random((5,3)) \n",
        "arr_2 =np.random.random((3,2))\n",
        "print(arr_1 @ arr_2)\n",
        "np.dot(arr_1,arr_2)"
      ]
    },
    {
      "cell_type": "markdown",
      "metadata": {
        "id": "YiH7Jyx_jlKH"
      },
      "source": [
        "#### 25. Given a 1D array, negate all elements which are between 3 and 8, in place. (★☆☆) \n",
        "(**hint**: >, <=)"
      ]
    },
    {
      "cell_type": "code",
      "execution_count": null,
      "metadata": {
        "id": "9CeQ459djlKI"
      },
      "outputs": [],
      "source": [
        "#arr = np.arange(16)\n",
        "#print(arr>=3)\n",
        "#arr[(arr>=3) & arr[(arr<=8)]*=(-1)\n",
        "#print(arr)\n",
        "arr =np.arange(16)"
      ]
    },
    {
      "cell_type": "markdown",
      "metadata": {
        "id": "2tNTawiAjlKI"
      },
      "source": [
        "#### 26. What is the output of the following script? (★☆☆) \n",
        "(**hint**: np.sum)"
      ]
    },
    {
      "cell_type": "markdown",
      "metadata": {
        "id": "CsnuzvWQjlKJ"
      },
      "source": [
        "```python\n",
        "# Author: Jake VanderPlas\n",
        "\n",
        "print(sum(range(5),-1))\n",
        "from numpy import *\n",
        "print(sum(range(5),-1))\n",
        "```"
      ]
    },
    {
      "cell_type": "code",
      "execution_count": null,
      "metadata": {
        "id": "bd5QZB6sjlKK",
        "colab": {
          "base_uri": "https://localhost:8080/"
        },
        "outputId": "fcff5726-d224-4247-f2a0-ffacd683d897"
      },
      "outputs": [
        {
          "output_type": "stream",
          "name": "stdout",
          "text": [
            "10\n",
            "10\n"
          ]
        }
      ],
      "source": [
        "print(sum(range(5),-1))\n",
        "from numpy import *\n",
        "print(sum(range(5),-1))"
      ]
    },
    {
      "cell_type": "markdown",
      "metadata": {
        "id": "SaR5I-_ojlKL"
      },
      "source": [
        "#### 27. Consider an integer vector Z, which of these expressions are legal? (★☆☆)"
      ]
    },
    {
      "cell_type": "markdown",
      "metadata": {
        "id": "7uKTwbpvjlKL"
      },
      "source": [
        "```python\n",
        "Z**Z\n",
        "2 << Z >> 2\n",
        "Z <- Z\n",
        "1j*Z\n",
        "Z/1/1\n",
        "Z<Z>Z\n",
        "```"
      ]
    },
    {
      "cell_type": "code",
      "execution_count": null,
      "metadata": {
        "id": "5CaLgu_GjlKM",
        "colab": {
          "base_uri": "https://localhost:8080/",
          "height": 182
        },
        "outputId": "a7316177-d6fd-4b0d-a22e-8bae874fc6df"
      },
      "outputs": [
        {
          "output_type": "error",
          "ename": "ValueError",
          "evalue": "ignored",
          "traceback": [
            "\u001b[0;31m---------------------------------------------------------------------------\u001b[0m",
            "\u001b[0;31mValueError\u001b[0m                                Traceback (most recent call last)",
            "\u001b[0;32m<ipython-input-47-863b5f41c955>\u001b[0m in \u001b[0;36m<module>\u001b[0;34m\u001b[0m\n\u001b[1;32m      1\u001b[0m \u001b[0mZ\u001b[0m \u001b[0;34m=\u001b[0m\u001b[0marange\u001b[0m\u001b[0;34m(\u001b[0m\u001b[0;36m10\u001b[0m\u001b[0;34m)\u001b[0m\u001b[0;34m\u001b[0m\u001b[0;34m\u001b[0m\u001b[0m\n\u001b[0;32m----> 2\u001b[0;31m \u001b[0mZ\u001b[0m\u001b[0;34m<\u001b[0m\u001b[0mZ\u001b[0m\u001b[0;34m>\u001b[0m\u001b[0mZ\u001b[0m\u001b[0;34m\u001b[0m\u001b[0;34m\u001b[0m\u001b[0m\n\u001b[0m",
            "\u001b[0;31mValueError\u001b[0m: The truth value of an array with more than one element is ambiguous. Use a.any() or a.all()"
          ]
        }
      ],
      "source": [
        "Z =arange(10)\n",
        "Z<Z>Z"
      ]
    },
    {
      "cell_type": "markdown",
      "metadata": {
        "id": "fCeVWFGTjlKN"
      },
      "source": [
        "#### 28. What are the result of the following expressions?"
      ]
    },
    {
      "cell_type": "markdown",
      "metadata": {
        "id": "CeLQqO9djlKN"
      },
      "source": [
        "```python\n",
        "np.array(0) / np.array(0)\n",
        "np.array(0) // np.array(0)\n",
        "np.array([np.nan]).astype(int).astype(float)\n",
        "```"
      ]
    },
    {
      "cell_type": "code",
      "execution_count": null,
      "metadata": {
        "id": "wJrmTVttjlKO",
        "colab": {
          "base_uri": "https://localhost:8080/"
        },
        "outputId": "bb8919af-daf1-4520-c9b5-9c0e318339ff"
      },
      "outputs": [
        {
          "output_type": "execute_result",
          "data": {
            "text/plain": [
              "array([-9.22337204e+18])"
            ]
          },
          "metadata": {},
          "execution_count": 48
        }
      ],
      "source": [
        "np.array([np.nan]).astype(int).astype(float)"
      ]
    },
    {
      "cell_type": "markdown",
      "metadata": {
        "id": "LhXbI6a4jlKP"
      },
      "source": [
        "#### 29. How to round away from zero a float array ? (★☆☆) \n",
        "(**hint**: np.uniform, np.copysign, np.ceil, np.abs)"
      ]
    },
    {
      "cell_type": "code",
      "execution_count": null,
      "metadata": {
        "id": "VWU6jYrojlKP",
        "colab": {
          "base_uri": "https://localhost:8080/"
        },
        "outputId": "75d14a79-4ca9-4a20-f331-3f978da89c0c"
      },
      "outputs": [
        {
          "output_type": "stream",
          "name": "stdout",
          "text": [
            "[[0.32876638 0.36297801 0.24993146 0.53943937 0.6741232 ]\n",
            " [0.48561544 0.06082807 0.84772798 0.54156996 0.25172974]\n",
            " [0.50230808 0.64804698 0.58691213 0.39461941 0.46790529]\n",
            " [0.0295738  0.02137981 0.29701373 0.4643656  0.24309079]\n",
            " [0.9119612  0.66772273 0.60498202 0.87933904 0.65693888]]\n",
            "[[0.33 0.36 0.25 0.54 0.67]\n",
            " [0.49 0.06 0.85 0.54 0.25]\n",
            " [0.5  0.65 0.59 0.39 0.47]\n",
            " [0.03 0.02 0.3  0.46 0.24]\n",
            " [0.91 0.67 0.6  0.88 0.66]]\n"
          ]
        }
      ],
      "source": [
        "arr = np.random.random((5,5))\n",
        "print(arr)\n",
        "arr = np.round(arr,2)\n",
        "print(arr)"
      ]
    },
    {
      "cell_type": "markdown",
      "metadata": {
        "id": "jykIZs-KjlKQ"
      },
      "source": [
        "#### 30. How to find common values between two arrays? (★☆☆) \n",
        "(**hint**: np.intersect1d)"
      ]
    },
    {
      "cell_type": "code",
      "execution_count": null,
      "metadata": {
        "id": "ReJTeQ87jlKQ",
        "colab": {
          "base_uri": "https://localhost:8080/"
        },
        "outputId": "5ec63c47-43ed-463a-a736-68f8d994e9e2"
      },
      "outputs": [
        {
          "output_type": "execute_result",
          "data": {
            "text/plain": [
              "<function numpy.intersect1d(ar1, ar2, assume_unique=False, return_indices=False)>"
            ]
          },
          "metadata": {},
          "execution_count": 51
        }
      ],
      "source": [
        "np.intersect1d"
      ]
    },
    {
      "cell_type": "markdown",
      "metadata": {
        "id": "8eIXOVsLjlKR"
      },
      "source": [
        "#### 31. How to ignore all numpy warnings (not recommended)? (★☆☆) \n",
        "(**hint**: np.seterr, np.errstate)"
      ]
    },
    {
      "cell_type": "code",
      "execution_count": null,
      "metadata": {
        "id": "GmTpt2ZkjlKR",
        "colab": {
          "base_uri": "https://localhost:8080/"
        },
        "outputId": "0ca1d5e9-84a9-4c4a-f7b5-ed9aba3f5476"
      },
      "outputs": [
        {
          "output_type": "execute_result",
          "data": {
            "text/plain": [
              "numpy.errstate"
            ]
          },
          "metadata": {},
          "execution_count": 52
        }
      ],
      "source": [
        "np.seterr(all=\"ignore\")\n",
        "np.errstate"
      ]
    },
    {
      "cell_type": "markdown",
      "metadata": {
        "id": "dky9nrBujlKR"
      },
      "source": [
        "#### 32. Is the following expressions true? (★☆☆) \n",
        "(**hint**: imaginary number)"
      ]
    },
    {
      "cell_type": "markdown",
      "metadata": {
        "id": "QN15yUI2jlKS"
      },
      "source": [
        "```python\n",
        "np.sqrt(-1) == np.emath.sqrt(-1)\n",
        "```"
      ]
    },
    {
      "cell_type": "code",
      "execution_count": null,
      "metadata": {
        "id": "T4ipoGccjlKS",
        "colab": {
          "base_uri": "https://localhost:8080/"
        },
        "outputId": "1059f086-663c-4c7c-f23c-508b9e09c392"
      },
      "outputs": [
        {
          "output_type": "execute_result",
          "data": {
            "text/plain": [
              "False"
            ]
          },
          "metadata": {},
          "execution_count": 53
        }
      ],
      "source": [
        "np.sqrt(-1) == np.emath.sqrt(-1)"
      ]
    },
    {
      "cell_type": "markdown",
      "metadata": {
        "id": "e5B3MYGTjlKS"
      },
      "source": [
        "#### 33. How to get the dates of yesterday, today and tomorrow? (★☆☆) \n",
        "(**hint**: np.datetime64, np.timedelta64)"
      ]
    },
    {
      "cell_type": "code",
      "execution_count": null,
      "metadata": {
        "collapsed": true,
        "id": "6LcCF4xRjlKT"
      },
      "outputs": [],
      "source": [
        "yesterday = np.datetime64('today', 'D') - np.timedelta64(1, 'D')\n",
        "today     = np.datetime64('today', 'D')\n",
        "tomorrow  = np.datetime64('today', 'D') + np.timedelta64(1, 'D')"
      ]
    },
    {
      "cell_type": "markdown",
      "metadata": {
        "id": "k_NyMjasjlKT"
      },
      "source": [
        "#### 34. How to get all the dates corresponding to the month of July 2016? (★★☆) \n",
        "(**hint**: np.arange(dtype=datetime64\\['D'\\]))"
      ]
    },
    {
      "cell_type": "code",
      "execution_count": null,
      "metadata": {
        "id": "rkQ5WwFGjlKU",
        "colab": {
          "base_uri": "https://localhost:8080/"
        },
        "outputId": "0b318898-f688-4975-bbaf-07212838fe16"
      },
      "outputs": [
        {
          "output_type": "stream",
          "name": "stdout",
          "text": [
            "['2016-07-01' '2016-07-02' '2016-07-03' '2016-07-04' '2016-07-05'\n",
            " '2016-07-06' '2016-07-07' '2016-07-08' '2016-07-09' '2016-07-10'\n",
            " '2016-07-11' '2016-07-12' '2016-07-13' '2016-07-14' '2016-07-15'\n",
            " '2016-07-16' '2016-07-17' '2016-07-18' '2016-07-19' '2016-07-20'\n",
            " '2016-07-21' '2016-07-22' '2016-07-23' '2016-07-24' '2016-07-25'\n",
            " '2016-07-26' '2016-07-27' '2016-07-28' '2016-07-29' '2016-07-30'\n",
            " '2016-07-31']\n"
          ]
        }
      ],
      "source": [
        "z = np.arange('2016-07','2016-08', dtype='datetime64[D]')\n",
        "print(z)"
      ]
    },
    {
      "cell_type": "markdown",
      "metadata": {
        "id": "ScQjqBIfjlKU"
      },
      "source": [
        "#### 35. How to compute ((A+B)\\*(-A/2)) in place (without copy)? (★★☆) \n",
        "(**hint**: np.add(out=), np.negative(out=), np.multiply(out=), np.divide(out=))"
      ]
    },
    {
      "cell_type": "code",
      "execution_count": 3,
      "metadata": {
        "id": "exscoanrjlKV",
        "colab": {
          "base_uri": "https://localhost:8080/"
        },
        "outputId": "78e8d700-9c3a-4ef5-a6db-3a3aa54c9d7b"
      },
      "outputs": [
        {
          "output_type": "execute_result",
          "data": {
            "text/plain": [
              "-4.5"
            ]
          },
          "metadata": {},
          "execution_count": 3
        }
      ],
      "source": [
        "import numpy as np\n",
        "A = np.ones(3)*1\n",
        "B = np.ones(3)*2\n",
        "C = np.ones(3)*3\n",
        "np.add(A,B,out=B)\n",
        "np.divide(A,2,out=A)\n",
        "np.negative(A,out=A)\n",
        "np.dot(A,B)"
      ]
    },
    {
      "cell_type": "markdown",
      "metadata": {
        "id": "gu0dct3yjlKV"
      },
      "source": [
        "#### 36. Extract the integer part of a random array using 5 different methods (★★☆) \n",
        "(**hint**: %, np.floor, np.ceil, astype, np.trunc)"
      ]
    },
    {
      "cell_type": "code",
      "execution_count": null,
      "metadata": {
        "id": "JmjZGmkajlKW",
        "colab": {
          "base_uri": "https://localhost:8080/"
        },
        "outputId": "2d182b89-eac7-4f97-ba09-7ee7502fe1c6"
      },
      "outputs": [
        {
          "output_type": "stream",
          "name": "stdout",
          "text": [
            "[1. 7. 4. 5. 1. 4. 5. 9. 5. 3.]\n",
            "[1. 7. 4. 5. 1. 4. 5. 9. 5. 3.]\n",
            "[1. 7. 4. 5. 1. 4. 5. 9. 5. 3.]\n",
            "[1 7 4 5 1 4 5 9 5 3]\n"
          ]
        }
      ],
      "source": [
        "Z = np.random.uniform(0,10,10)\n",
        "\n",
        "print (Z - Z%1)\n",
        "print (np.floor(Z))\n",
        "print (np.ceil(Z)-1)\n",
        "print (Z.astype(int))"
      ]
    },
    {
      "cell_type": "markdown",
      "metadata": {
        "id": "PCVZub1ojlKW"
      },
      "source": [
        "#### 37. Create a 5x5 matrix with row values ranging from 0 to 4 (★★☆) \n",
        "(**hint**: np.arange)"
      ]
    },
    {
      "cell_type": "code",
      "execution_count": null,
      "metadata": {
        "id": "emkQGIBEjlKX",
        "colab": {
          "base_uri": "https://localhost:8080/"
        },
        "outputId": "3de2bc71-d07c-4489-8a4b-00252275a6d9"
      },
      "outputs": [
        {
          "output_type": "stream",
          "name": "stdout",
          "text": [
            "[[0. 1. 2. 3. 4.]\n",
            " [0. 1. 2. 3. 4.]\n",
            " [0. 1. 2. 3. 4.]\n",
            " [0. 1. 2. 3. 4.]\n",
            " [0. 1. 2. 3. 4.]]\n"
          ]
        }
      ],
      "source": [
        "Z = np.zeros((5,5))\n",
        "Z += np.arange(5)\n",
        "print(Z)"
      ]
    },
    {
      "cell_type": "markdown",
      "metadata": {
        "id": "79_vNzvxjlKX"
      },
      "source": [
        "#### 38. Consider a generator function that generates 10 integers and use it to build an array (★☆☆) \n",
        "(**hint**: np.fromiter)"
      ]
    },
    {
      "cell_type": "code",
      "execution_count": null,
      "metadata": {
        "id": "S05J60Q6jlKX",
        "colab": {
          "base_uri": "https://localhost:8080/"
        },
        "outputId": "d052a8b6-479d-465e-92b1-8e2e03274b0e"
      },
      "outputs": [
        {
          "output_type": "stream",
          "name": "stdout",
          "text": [
            "[0. 1. 2. 3. 4. 5. 6. 7. 8. 9.]\n"
          ]
        }
      ],
      "source": [
        "def generate():\n",
        "    for x in range(10):\n",
        "        yield x\n",
        "Z = np.fromiter(generate(),dtype=float,count=-1)\n",
        "print(Z)"
      ]
    },
    {
      "cell_type": "markdown",
      "metadata": {
        "id": "yORVXGQMjlKY"
      },
      "source": [
        "#### 39. Create a vector of size 10 with values ranging from 0 to 1, both excluded (★★☆) \n",
        "(**hint**: np.linspace)"
      ]
    },
    {
      "cell_type": "code",
      "execution_count": null,
      "metadata": {
        "id": "SU5EoO8ZjlKY",
        "colab": {
          "base_uri": "https://localhost:8080/"
        },
        "outputId": "422c74e1-e2d3-4ca0-d240-83bddb3753f8"
      },
      "outputs": [
        {
          "output_type": "stream",
          "name": "stdout",
          "text": [
            "[0.09090909 0.18181818 0.27272727 0.36363636 0.45454545 0.54545455\n",
            " 0.63636364 0.72727273 0.81818182 0.90909091]\n"
          ]
        }
      ],
      "source": [
        "Z = np.linspace(0,1,11,endpoint=False)[1:]\n",
        "print(Z)"
      ]
    },
    {
      "cell_type": "markdown",
      "metadata": {
        "id": "MUTWeKR-jlKY"
      },
      "source": [
        "#### 40. Create a random vector of size 10 and sort it (★★☆) \n",
        "(**hint**: sort)"
      ]
    },
    {
      "cell_type": "code",
      "execution_count": null,
      "metadata": {
        "id": "ae12rLYkjlKZ",
        "colab": {
          "base_uri": "https://localhost:8080/"
        },
        "outputId": "a1688257-e535-4cc3-ed6a-88376ecc7c7e"
      },
      "outputs": [
        {
          "output_type": "stream",
          "name": "stdout",
          "text": [
            "[0.14484206 0.18807892 0.18871238 0.19932692 0.27759957 0.60935492\n",
            " 0.69364172 0.82040088 0.86343483 0.89640262]\n"
          ]
        }
      ],
      "source": [
        "Z = np.random.random(10)\n",
        "Z.sort()\n",
        "print(Z)"
      ]
    },
    {
      "cell_type": "markdown",
      "metadata": {
        "id": "5TVpiSpyjlKZ"
      },
      "source": [
        "#### 41. How to sum a small array faster than np.sum? (★★☆) \n",
        "(**hint**: np.add.reduce)"
      ]
    },
    {
      "cell_type": "code",
      "execution_count": null,
      "metadata": {
        "id": "phQDxvdZjlKa",
        "colab": {
          "base_uri": "https://localhost:8080/"
        },
        "outputId": "584a746a-aa1e-453b-972e-28fe8bcc724e"
      },
      "outputs": [
        {
          "output_type": "execute_result",
          "data": {
            "text/plain": [
              "45"
            ]
          },
          "metadata": {},
          "execution_count": 64
        }
      ],
      "source": [
        "z = np.arange(10)\n",
        "np.add.reduce(z)"
      ]
    },
    {
      "cell_type": "markdown",
      "metadata": {
        "id": "a9VjN7ZZjlKa"
      },
      "source": [
        "#### 42. Consider two random array A and B, check if they are equal (★★☆) \n",
        "(**hint**: np.allclose, np.array\\_equal)"
      ]
    },
    {
      "cell_type": "code",
      "execution_count": null,
      "metadata": {
        "id": "5k_ovn5FjlKa",
        "colab": {
          "base_uri": "https://localhost:8080/"
        },
        "outputId": "4a840fa9-7f12-4a93-fb24-d27f3adc7f22"
      },
      "outputs": [
        {
          "output_type": "stream",
          "name": "stdout",
          "text": [
            "False\n",
            "False\n"
          ]
        }
      ],
      "source": [
        "a = np.random.randint(0,2,5)\n",
        "b = np.random.randint(0,2,5)\n",
        "equal = np.allclose(a,b)\n",
        "print(equal)\n",
        "np.array_equal(a,b)\n",
        "print(equal)"
      ]
    },
    {
      "cell_type": "markdown",
      "metadata": {
        "id": "t3WeFpoZjlKa"
      },
      "source": [
        "#### 43. Make an array immutable (read-only) (★★☆) \n",
        "(**hint**: flags.writeable)"
      ]
    },
    {
      "cell_type": "code",
      "execution_count": null,
      "metadata": {
        "id": "suetEdjXjlKb",
        "colab": {
          "base_uri": "https://localhost:8080/",
          "height": 200
        },
        "outputId": "377c871b-7391-4e87-b29d-178ac7b630e3"
      },
      "outputs": [
        {
          "output_type": "error",
          "ename": "ValueError",
          "evalue": "ignored",
          "traceback": [
            "\u001b[0;31m---------------------------------------------------------------------------\u001b[0m",
            "\u001b[0;31mValueError\u001b[0m                                Traceback (most recent call last)",
            "\u001b[0;32m<ipython-input-66-6d9d2a841d7a>\u001b[0m in \u001b[0;36m<module>\u001b[0;34m\u001b[0m\n\u001b[1;32m      1\u001b[0m \u001b[0mz\u001b[0m \u001b[0;34m=\u001b[0m \u001b[0mnp\u001b[0m\u001b[0;34m.\u001b[0m\u001b[0mzeros\u001b[0m\u001b[0;34m(\u001b[0m\u001b[0;36m10\u001b[0m\u001b[0;34m)\u001b[0m\u001b[0;34m\u001b[0m\u001b[0;34m\u001b[0m\u001b[0m\n\u001b[1;32m      2\u001b[0m \u001b[0mz\u001b[0m\u001b[0;34m.\u001b[0m\u001b[0mflags\u001b[0m\u001b[0;34m.\u001b[0m\u001b[0mwriteable\u001b[0m \u001b[0;34m=\u001b[0m \u001b[0;32mFalse\u001b[0m\u001b[0;34m\u001b[0m\u001b[0;34m\u001b[0m\u001b[0m\n\u001b[0;32m----> 3\u001b[0;31m \u001b[0mz\u001b[0m\u001b[0;34m[\u001b[0m\u001b[0;36m0\u001b[0m\u001b[0;34m]\u001b[0m \u001b[0;34m=\u001b[0m\u001b[0;36m1\u001b[0m\u001b[0;34m\u001b[0m\u001b[0;34m\u001b[0m\u001b[0m\n\u001b[0m",
            "\u001b[0;31mValueError\u001b[0m: assignment destination is read-only"
          ]
        }
      ],
      "source": [
        "z = np.zeros(10)\n",
        "z.flags.writeable = False\n",
        "z[0] =1"
      ]
    },
    {
      "cell_type": "markdown",
      "metadata": {
        "id": "ve_ZB4cqjlKb"
      },
      "source": [
        "#### 44. Consider a random 10x2 matrix representing cartesian coordinates, convert them to polar coordinates (★★☆) \n",
        "(**hint**: np.sqrt, np.arctan2)"
      ]
    },
    {
      "cell_type": "code",
      "execution_count": null,
      "metadata": {
        "id": "tg14ApI3jlKb",
        "colab": {
          "base_uri": "https://localhost:8080/"
        },
        "outputId": "4184d442-8927-4cd4-969f-234e659b3549"
      },
      "outputs": [
        {
          "output_type": "stream",
          "name": "stdout",
          "text": [
            "[[ 6.40312424  0.89605538]\n",
            " [10.          0.92729522]\n",
            " [ 9.21954446  0.86217005]\n",
            " [ 1.          0.        ]\n",
            " [ 7.28010989  1.29249667]\n",
            " [ 1.          0.        ]\n",
            " [ 7.61577311  0.40489179]\n",
            " [ 5.09901951  0.19739556]\n",
            " [ 8.54400375  0.35877067]\n",
            " [ 5.          1.57079633]]\n"
          ]
        }
      ],
      "source": [
        "z=np.random.randint(0,9,(10,2))\n",
        "x,y = z[:,0],z[:,1]\n",
        "r = np.sqrt(x**2+y**2)\n",
        "t = np.arctan2(y,x)\n",
        "poles = np.c_[r,t]\n",
        "print(poles)"
      ]
    },
    {
      "cell_type": "markdown",
      "metadata": {
        "id": "Se9VbTo6jlKc"
      },
      "source": [
        "#### 45. Create random vector of size 10 and replace the maximum value by 0 (★★☆) \n",
        "(**hint**: argmax)"
      ]
    },
    {
      "cell_type": "code",
      "execution_count": null,
      "metadata": {
        "id": "034l4aRujlKc",
        "colab": {
          "base_uri": "https://localhost:8080/"
        },
        "outputId": "d8c30351-f229-4d9a-b53e-8c64d510634e"
      },
      "outputs": [
        {
          "output_type": "stream",
          "name": "stdout",
          "text": [
            "[0.15854288 0.60651406 0.97108427 0.98662235 0.0514836  0.85793778\n",
            " 0.65412054 0.94831269 0.09303742 0.55676319]\n",
            "[0.15854288 0.60651406 0.97108427 0.         0.0514836  0.85793778\n",
            " 0.65412054 0.94831269 0.09303742 0.55676319]\n"
          ]
        }
      ],
      "source": [
        "arr = np.random.random(10)\n",
        "print(arr)\n",
        "arr[arr.argmax()]=0\n",
        "print(arr)"
      ]
    },
    {
      "cell_type": "markdown",
      "metadata": {
        "id": "TwRJB0nTjlKc"
      },
      "source": [
        "#### 46. Create a structured array with `x` and `y` coordinates covering the \\[0,1\\]x\\[0,1\\] area (★★☆) \n",
        "(**hint**: np.meshgrid)"
      ]
    },
    {
      "cell_type": "code",
      "execution_count": null,
      "metadata": {
        "id": "lsBwhnuxjlKd",
        "colab": {
          "base_uri": "https://localhost:8080/"
        },
        "outputId": "4eff11f0-f7da-4de0-ded9-dae99e0e1604"
      },
      "outputs": [
        {
          "output_type": "execute_result",
          "data": {
            "text/plain": [
              "<function numpy.meshgrid(*xi, copy=True, sparse=False, indexing='xy')>"
            ]
          },
          "metadata": {},
          "execution_count": 69
        }
      ],
      "source": [
        "np.meshgrid"
      ]
    },
    {
      "cell_type": "markdown",
      "metadata": {
        "id": "1EH_aNuQjlKd"
      },
      "source": [
        "####  47. Given two arrays, X and Y, construct the Cauchy matrix C (Cij =1/(xi - yj)) \n",
        "(**hint**: np.subtract.outer)"
      ]
    },
    {
      "cell_type": "code",
      "execution_count": null,
      "metadata": {
        "id": "DXIDsaeUjlKd",
        "colab": {
          "base_uri": "https://localhost:8080/"
        },
        "outputId": "9c3065b4-420e-4192-d2e5-71ee04dfc036"
      },
      "outputs": [
        {
          "output_type": "execute_result",
          "data": {
            "text/plain": [
              "array([[-0.33333333,         inf, -0.2       ,  0.25      ,  0.5       ,\n",
              "        -0.2       , -0.33333333, -0.33333333,  0.5       , -0.2       ],\n",
              "       [-0.25      , -1.        , -0.16666667,  0.33333333,  1.        ,\n",
              "        -0.16666667, -0.25      , -0.25      ,  1.        , -0.16666667],\n",
              "       [-0.2       , -0.5       , -0.14285714,  0.5       ,         inf,\n",
              "        -0.14285714, -0.2       , -0.2       ,         inf, -0.14285714],\n",
              "       [ 1.        ,  0.25      , -1.        ,  0.125     ,  0.16666667,\n",
              "        -1.        ,  1.        ,  1.        ,  0.16666667, -1.        ],\n",
              "       [ 1.        ,  0.25      , -1.        ,  0.125     ,  0.16666667,\n",
              "        -1.        ,  1.        ,  1.        ,  0.16666667, -1.        ],\n",
              "       [-0.33333333,         inf, -0.2       ,  0.25      ,  0.5       ,\n",
              "        -0.2       , -0.33333333, -0.33333333,  0.5       , -0.2       ],\n",
              "       [ 0.33333333,  0.16666667,  1.        ,  0.1       ,  0.125     ,\n",
              "         1.        ,  0.33333333,  0.33333333,  0.125     ,  1.        ],\n",
              "       [        inf,  0.33333333, -0.5       ,  0.14285714,  0.2       ,\n",
              "        -0.5       ,         inf,         inf,  0.2       , -0.5       ],\n",
              "       [        inf,  0.33333333, -0.5       ,  0.14285714,  0.2       ,\n",
              "        -0.5       ,         inf,         inf,  0.2       , -0.5       ],\n",
              "       [        inf,  0.33333333, -0.5       ,  0.14285714,  0.2       ,\n",
              "        -0.5       ,         inf,         inf,  0.2       , -0.5       ]])"
            ]
          },
          "metadata": {},
          "execution_count": 70
        }
      ],
      "source": [
        "x = np.random.randint(0,11,10)\n",
        "y = np.random.randint(0,11,10)\n",
        "y = np.tile(y,(10,1))\n",
        "x = np.tile(x,(10,1)).T\n",
        "c= 1/(x-y)\n",
        "c"
      ]
    },
    {
      "cell_type": "markdown",
      "metadata": {
        "id": "g7mDLtfljlKd"
      },
      "source": [
        "#### 48. Print the minimum and maximum representable value for each numpy scalar type (★★☆) \n",
        "(**hint**: np.iinfo, np.finfo, eps)"
      ]
    },
    {
      "cell_type": "code",
      "execution_count": null,
      "metadata": {
        "id": "nSgOR7D7jlKe",
        "colab": {
          "base_uri": "https://localhost:8080/"
        },
        "outputId": "acd5637c-7a9f-4e33-aa82-cafacb4c351b"
      },
      "outputs": [
        {
          "output_type": "stream",
          "name": "stdout",
          "text": [
            "-128\n",
            "127\n",
            "-2147483648\n",
            "2147483647\n",
            "-9223372036854775808\n",
            "9223372036854775807\n",
            "-3.4028235e+38\n",
            "3.4028235e+38\n",
            "1.1920929e-07\n",
            "-1.7976931348623157e+308\n",
            "1.7976931348623157e+308\n",
            "2.220446049250313e-16\n"
          ]
        }
      ],
      "source": [
        "for dtype in [np.int8, np.int32, np.int64]:\n",
        "  print(np.iinfo(dtype).min)\n",
        "  print(np.iinfo(dtype).max)\n",
        "for dtype in [np.float32, np.float64]:\n",
        "  print(np.finfo(dtype).min)\n",
        "  print(np.finfo(dtype).max)\n",
        "  print(np.finfo(dtype).eps)"
      ]
    },
    {
      "cell_type": "markdown",
      "metadata": {
        "id": "ea2OqPvQjlKe"
      },
      "source": [
        "#### 49. How to print all the values of an array? (★★☆) \n",
        "(**hint**: np.set\\_printoptions)"
      ]
    },
    {
      "cell_type": "code",
      "execution_count": null,
      "metadata": {
        "id": "N4KyCAbpjlKe",
        "colab": {
          "base_uri": "https://localhost:8080/"
        },
        "outputId": "4220f2da-879c-4b21-ce4c-a00b959d27a8"
      },
      "outputs": [
        {
          "output_type": "stream",
          "name": "stdout",
          "text": [
            "[]\n"
          ]
        }
      ],
      "source": [
        "#np.set_printoptions(threshold=np.nan)\n",
        "z=[]\n",
        "print(z)"
      ]
    },
    {
      "cell_type": "markdown",
      "metadata": {
        "id": "OSXBam33jlKf"
      },
      "source": [
        "#### 50. How to find the closest value (to a given scalar) in a vector? (★★☆) \n",
        "(**hint**: argmin)"
      ]
    },
    {
      "cell_type": "code",
      "execution_count": null,
      "metadata": {
        "id": "kqLIKtUXjlKf",
        "colab": {
          "base_uri": "https://localhost:8080/"
        },
        "outputId": "ab1a8ad9-fbb4-4a41-afb3-e16108b5d044"
      },
      "outputs": [
        {
          "output_type": "stream",
          "name": "stdout",
          "text": [
            "[5.1465661  2.28035632 8.56510604 3.90622959 2.93834242 0.09976682\n",
            " 7.16160688 9.49273286 9.35665741 6.42594327]\n",
            "************************************************************\n",
            "5.146566096090307\n"
          ]
        }
      ],
      "source": [
        "arr = np.random.uniform(0,10,10)\n",
        "scal = 5\n",
        "arr_1 = np.abs(arr - 5)\n",
        "ind = arr_1.argmin()\n",
        "print(arr)\n",
        "print('*'*60)\n",
        "print(arr[ind])"
      ]
    },
    {
      "cell_type": "markdown",
      "metadata": {
        "id": "mIpYP4_KjlKf"
      },
      "source": [
        "#### 51. Create a structured array representing a position (x,y) and a color (r,g,b) (★★☆) \n",
        "(**hint**: dtype)"
      ]
    },
    {
      "cell_type": "code",
      "execution_count": 5,
      "metadata": {
        "id": "RD0ZnHwXjlKg",
        "colab": {
          "base_uri": "https://localhost:8080/"
        },
        "outputId": "2f4aa678-f119-405a-db5a-776d413c2cff"
      },
      "outputs": [
        {
          "output_type": "stream",
          "name": "stdout",
          "text": [
            "[((0., 0.), (0., 0., 0.)) ((0., 0.), (0., 0., 0.))\n",
            " ((0., 0.), (0., 0., 0.)) ((0., 0.), (0., 0., 0.))\n",
            " ((0., 0.), (0., 0., 0.)) ((0., 0.), (0., 0., 0.))\n",
            " ((0., 0.), (0., 0., 0.)) ((0., 0.), (0., 0., 0.))\n",
            " ((0., 0.), (0., 0., 0.)) ((0., 0.), (0., 0., 0.))]\n"
          ]
        },
        {
          "output_type": "stream",
          "name": "stderr",
          "text": [
            "/usr/local/lib/python3.7/dist-packages/ipykernel_launcher.py:5: FutureWarning: Passing (type, 1) or '1type' as a synonym of type is deprecated; in a future version of numpy, it will be understood as (type, (1,)) / '(1,)type'.\n",
            "  \"\"\"\n"
          ]
        }
      ],
      "source": [
        "z = np.zeros(10, [('position', [('x,',float,1),\n",
        "                                ('y', float,1)]),\n",
        "                  ('color',[('r', float,1),\n",
        "                            ('g', float,1),\n",
        "                            ('b', float,1)])])\n",
        "print(z)"
      ]
    },
    {
      "cell_type": "markdown",
      "metadata": {
        "id": "00VaeMeDjlKg"
      },
      "source": [
        "#### 52. Consider a random vector with shape (100,2) representing coordinates, find point by point distances (★★☆) \n",
        "(**hint**: np.atleast\\_2d, T, np.sqrt)"
      ]
    },
    {
      "cell_type": "code",
      "execution_count": 7,
      "metadata": {
        "id": "2pZzCW-3jlKg",
        "colab": {
          "base_uri": "https://localhost:8080/"
        },
        "outputId": "b5f34bd3-99e9-4762-bbae-8ad471e8fbbd"
      },
      "outputs": [
        {
          "output_type": "stream",
          "name": "stdout",
          "text": [
            "[[0.         0.11636011 1.01913942 0.35874986 0.8021401  0.68659034\n",
            "  0.63603347 0.77245774 0.40595782 0.70546556]\n",
            " [0.11636011 0.         1.07223942 0.24823612 0.72786515 0.60250882\n",
            "  0.62007906 0.8209432  0.40547956 0.73570548]\n",
            " [1.01913942 1.07223942 0.         1.13332975 1.02423874 1.06048835\n",
            "  0.64276465 0.2526216  0.71243117 0.37349589]\n",
            " [0.35874986 0.24823612 1.13332975 0.         0.53292439 0.39289342\n",
            "  0.56370648 0.88340806 0.420917   0.76583465]\n",
            " [0.8021401  0.72786515 1.02423874 0.53292439 0.         0.14519761\n",
            "  0.40349517 0.83134585 0.52085768 0.68390831]\n",
            " [0.68659034 0.60250882 1.06048835 0.39289342 0.14519761 0.\n",
            "  0.41832723 0.84496296 0.46599854 0.69917073]\n",
            " [0.63603347 0.62007906 0.64276465 0.56370648 0.40349517 0.41832723\n",
            "  0.         0.43055378 0.23371692 0.28324733]\n",
            " [0.77245774 0.8209432  0.2526216  0.88340806 0.83134585 0.84496296\n",
            "  0.43055378 0.         0.4628383  0.14753443]\n",
            " [0.40595782 0.40547956 0.71243117 0.420917   0.52085768 0.46599854\n",
            "  0.23371692 0.4628383  0.         0.34782096]\n",
            " [0.70546556 0.73570548 0.37349589 0.76583465 0.68390831 0.69917073\n",
            "  0.28324733 0.14753443 0.34782096 0.        ]]\n"
          ]
        }
      ],
      "source": [
        "z = np.random.random((10,2))\n",
        "x,y = np.atleast_2d(z[:,0]),np.atleast_2d(z[:,1])\n",
        "d = np.sqrt((x-x.T)**2+(y-y.T)**2)\n",
        "print(d)"
      ]
    },
    {
      "cell_type": "markdown",
      "metadata": {
        "id": "3IMwKWJhjlKh"
      },
      "source": [
        "#### 53. How to convert a float (32 bits) array into an integer (32 bits) in place? \n",
        "(**hint**: astype(copy=False))"
      ]
    },
    {
      "cell_type": "code",
      "execution_count": 9,
      "metadata": {
        "id": "8ZkiI8ZojlKh",
        "colab": {
          "base_uri": "https://localhost:8080/"
        },
        "outputId": "5ee4d986-4084-4c3e-b5bc-a767e67292f5"
      },
      "outputs": [
        {
          "output_type": "stream",
          "name": "stdout",
          "text": [
            "[0. 1. 2. 3. 4. 5. 6. 7. 8. 9.]\n"
          ]
        }
      ],
      "source": [
        "z = np.arange(10, dtype=np.int32)\n",
        "z = z.astype(np.float32, copy= False)\n",
        "print(z)"
      ]
    },
    {
      "cell_type": "markdown",
      "metadata": {
        "id": "Nd784ed4jlKh"
      },
      "source": [
        "#### 54. How to read the following file? (★★☆) \n",
        "(**hint**: np.genfromtxt)"
      ]
    },
    {
      "cell_type": "markdown",
      "metadata": {
        "id": "mvY8KEPSjlKi"
      },
      "source": [
        "```\n",
        "1, 2, 3, 4, 5\n",
        "6,  ,  , 7, 8\n",
        " ,  , 9,10,11\n",
        "```"
      ]
    },
    {
      "cell_type": "code",
      "execution_count": 11,
      "metadata": {
        "id": "KhCm7O8FjlKn",
        "colab": {
          "base_uri": "https://localhost:8080/"
        },
        "outputId": "9a116b38-efc3-400e-fb71-73daf16ce66a"
      },
      "outputs": [
        {
          "output_type": "stream",
          "name": "stdout",
          "text": [
            "[[ 1  2  3  4  5]\n",
            " [ 6 -1 -1  7  8]\n",
            " [-1 -1  9 10 11]]\n"
          ]
        },
        {
          "output_type": "stream",
          "name": "stderr",
          "text": [
            "/usr/local/lib/python3.7/dist-packages/ipykernel_launcher.py:5: DeprecationWarning: `np.int` is a deprecated alias for the builtin `int`. To silence this warning, use `int` by itself. Doing this will not modify any behavior and is safe. When replacing `np.int`, you may wish to use e.g. `np.int64` or `np.int32` to specify the precision. If you wish to review your current use, check the release note link for additional information.\n",
            "Deprecated in NumPy 1.20; for more details and guidance: https://numpy.org/devdocs/release/1.20.0-notes.html#deprecations\n",
            "  \"\"\"\n"
          ]
        }
      ],
      "source": [
        "from io import StringIO\n",
        "s= StringIO('''1, 2, 3, 4, 5\\n\n",
        "    6,  ,  , 7, 8\\n\n",
        "    ,  , 9,10,11\\n''')\n",
        "z = np.genfromtxt(s, delimiter=\",\", dtype=np.int)\n",
        "print(z)"
      ]
    },
    {
      "cell_type": "markdown",
      "metadata": {
        "id": "V3XotEZmjlKn"
      },
      "source": [
        "#### 55. What is the equivalent of enumerate for numpy arrays? (★★☆) \n",
        "(**hint**: np.ndenumerate, np.ndindex)"
      ]
    },
    {
      "cell_type": "code",
      "execution_count": 12,
      "metadata": {
        "id": "vDPhrcFXjlKn",
        "colab": {
          "base_uri": "https://localhost:8080/"
        },
        "outputId": "ea4fb4c7-02ed-4021-b23d-d5fbb5c4d7c0"
      },
      "outputs": [
        {
          "output_type": "stream",
          "name": "stdout",
          "text": [
            "(0, 0) 0\n",
            "(0, 1) 1\n",
            "(0, 2) 2\n",
            "(1, 0) 3\n",
            "(1, 1) 4\n",
            "(1, 2) 5\n",
            "(2, 0) 6\n",
            "(2, 1) 7\n",
            "(2, 2) 8\n",
            "(0, 0) 0\n",
            "(0, 1) 1\n",
            "(0, 2) 2\n",
            "(1, 0) 3\n",
            "(1, 1) 4\n",
            "(1, 2) 5\n",
            "(2, 0) 6\n",
            "(2, 1) 7\n",
            "(2, 2) 8\n"
          ]
        }
      ],
      "source": [
        "z = np.arange(9).reshape(3,3)\n",
        "for index, value in np.ndenumerate(z):\n",
        "  print(index,value)\n",
        "for index in np.ndindex(z.shape):\n",
        "  print(index, z[index])"
      ]
    },
    {
      "cell_type": "markdown",
      "metadata": {
        "id": "86lgerMOjlKo"
      },
      "source": [
        "#### 56. Generate a generic 2D Gaussian-like array (★★☆) \n",
        "(**hint**: np.meshgrid, np.exp)"
      ]
    },
    {
      "cell_type": "code",
      "execution_count": 13,
      "metadata": {
        "id": "8624qLP2jlKo",
        "colab": {
          "base_uri": "https://localhost:8080/"
        },
        "outputId": "0d73f804-b331-40dc-d42d-73966e3d358d"
      },
      "outputs": [
        {
          "output_type": "stream",
          "name": "stdout",
          "text": [
            "[[0.60653066 0.7389913  0.85699689 0.94595947 0.99384617 0.99384617\n",
            "  0.94595947 0.85699689 0.7389913  0.60653066]\n",
            " [0.7389913  0.83278885 0.91087038 0.96695078 0.99627278 0.99627278\n",
            "  0.96695078 0.91087038 0.83278885 0.7389913 ]\n",
            " [0.85699689 0.91087038 0.95348657 0.98299939 0.99809662 0.99809662\n",
            "  0.98299939 0.95348657 0.91087038 0.85699689]\n",
            " [0.94595947 0.96695078 0.98299939 0.99384617 0.99931436 0.99931436\n",
            "  0.99384617 0.98299939 0.96695078 0.94595947]\n",
            " [0.99384617 0.99627278 0.99809662 0.99931436 0.9999238  0.9999238\n",
            "  0.99931436 0.99809662 0.99627278 0.99384617]\n",
            " [0.99384617 0.99627278 0.99809662 0.99931436 0.9999238  0.9999238\n",
            "  0.99931436 0.99809662 0.99627278 0.99384617]\n",
            " [0.94595947 0.96695078 0.98299939 0.99384617 0.99931436 0.99931436\n",
            "  0.99384617 0.98299939 0.96695078 0.94595947]\n",
            " [0.85699689 0.91087038 0.95348657 0.98299939 0.99809662 0.99809662\n",
            "  0.98299939 0.95348657 0.91087038 0.85699689]\n",
            " [0.7389913  0.83278885 0.91087038 0.96695078 0.99627278 0.99627278\n",
            "  0.96695078 0.91087038 0.83278885 0.7389913 ]\n",
            " [0.60653066 0.7389913  0.85699689 0.94595947 0.99384617 0.99384617\n",
            "  0.94595947 0.85699689 0.7389913  0.60653066]]\n"
          ]
        }
      ],
      "source": [
        "x,y = np.meshgrid(np.linspace(-1,1,10), np.linspace(-1,1,10))\n",
        "d = np.sqrt(x*x*+y*y)\n",
        "sigma, mu = 1.0,0.0\n",
        "g = np.exp(-(d-mu)**2/(2.0*sigma**2))\n",
        "print(g)"
      ]
    },
    {
      "cell_type": "markdown",
      "metadata": {
        "id": "RWtzUWKnjlKo"
      },
      "source": [
        "#### 57. How to randomly place p elements in a 2D array? (★★☆) \n",
        "(**hint**: np.put, np.random.choice)"
      ]
    },
    {
      "cell_type": "code",
      "execution_count": 14,
      "metadata": {
        "id": "HQ4FhXvajlKp",
        "colab": {
          "base_uri": "https://localhost:8080/"
        },
        "outputId": "3539620f-d4dc-4fa1-c5df-d09e78ba9406"
      },
      "outputs": [
        {
          "output_type": "stream",
          "name": "stdout",
          "text": [
            "[[0. 0. 0. 0. 0. 0. 0. 0. 0. 0.]\n",
            " [0. 0. 1. 0. 0. 0. 0. 0. 0. 0.]\n",
            " [0. 0. 0. 0. 0. 0. 0. 0. 0. 0.]\n",
            " [0. 0. 0. 0. 0. 0. 0. 0. 0. 0.]\n",
            " [0. 0. 0. 0. 0. 0. 0. 0. 0. 0.]\n",
            " [0. 0. 0. 0. 0. 0. 0. 0. 0. 0.]\n",
            " [0. 0. 0. 0. 0. 0. 0. 0. 0. 0.]\n",
            " [0. 1. 0. 0. 0. 0. 0. 0. 0. 0.]\n",
            " [0. 0. 0. 0. 0. 0. 0. 0. 1. 0.]\n",
            " [0. 0. 0. 0. 0. 0. 0. 0. 0. 0.]]\n"
          ]
        }
      ],
      "source": [
        "n = 10 \n",
        "p =3\n",
        "z= np.zeros((n,n))\n",
        "np.put(z,np.random.choice(range(n*n),p,replace=False),1)\n",
        "print(z)"
      ]
    },
    {
      "cell_type": "markdown",
      "metadata": {
        "id": "rgBTfTvWjlKp"
      },
      "source": [
        "#### 58. Subtract the mean of each row of a matrix (★★☆) \n",
        "(**hint**: mean(axis=,keepdims=))"
      ]
    },
    {
      "cell_type": "code",
      "execution_count": 16,
      "metadata": {
        "id": "w-maDo8XjlKp",
        "colab": {
          "base_uri": "https://localhost:8080/"
        },
        "outputId": "b7c56726-d2f2-4a0a-c602-8da1282db5ff"
      },
      "outputs": [
        {
          "output_type": "execute_result",
          "data": {
            "text/plain": [
              "array([[ 0.37434772,  0.13106745,  0.10396461, -0.41331707, -0.47070562,\n",
              "         0.27926128, -0.39740433,  0.35889212, -0.12309292,  0.15698677],\n",
              "       [-0.42818333,  0.08834747,  0.33570808, -0.47195662, -0.10919765,\n",
              "        -0.06708559,  0.19390222,  0.40325072,  0.30306975, -0.24785503],\n",
              "       [-0.24272828,  0.13341278,  0.24807031,  0.21022029, -0.11788861,\n",
              "         0.1647403 , -0.0741893 ,  0.15687199, -0.43178378, -0.0467257 ],\n",
              "       [-0.49024882,  0.21101369, -0.20836805,  0.10217648, -0.04739377,\n",
              "         0.25261542,  0.34168031,  0.1795052 , -0.38249242,  0.04151196],\n",
              "       [ 0.34089609,  0.05526406,  0.31723863, -0.35994366,  0.32004514,\n",
              "        -0.09029697,  0.20925964, -0.20773337, -0.47230243, -0.11242713]])"
            ]
          },
          "metadata": {},
          "execution_count": 16
        }
      ],
      "source": [
        "x = np.random.rand(5,10)\n",
        "y = x-x.mean(axis=1, keepdims=True)\n",
        "y"
      ]
    },
    {
      "cell_type": "markdown",
      "metadata": {
        "id": "4YwOLzW4jlKp"
      },
      "source": [
        "#### 59. How to sort an array by the nth column? (★★☆) \n",
        "(**hint**: argsort)"
      ]
    },
    {
      "cell_type": "code",
      "execution_count": 18,
      "metadata": {
        "id": "wL3a_Z55jlKq",
        "colab": {
          "base_uri": "https://localhost:8080/"
        },
        "outputId": "21ec8033-b0d4-483e-d387-0a540eed9107"
      },
      "outputs": [
        {
          "output_type": "stream",
          "name": "stdout",
          "text": [
            "[[2 0 6 2 1]\n",
            " [3 4 6 2 8]\n",
            " [9 8 7 5 3]\n",
            " [9 9 1 8 8]\n",
            " [4 1 9 6 8]]\n",
            "[[9 9 1 8 8]\n",
            " [9 8 7 5 3]\n",
            " [3 4 6 2 8]\n",
            " [4 1 9 6 8]\n",
            " [2 0 6 2 1]]\n",
            "[[2 2 0 6 1]\n",
            " [2 3 4 6 8]\n",
            " [5 9 8 7 3]\n",
            " [8 9 9 1 8]\n",
            " [6 4 1 9 8]]\n"
          ]
        }
      ],
      "source": [
        "z = np.random.randint(0,10,(5,5))\n",
        "print(z)\n",
        "print(z[(-z)[:,1].argsort()])\n",
        "print(z[:,z[1,:].argsort()])"
      ]
    },
    {
      "cell_type": "markdown",
      "metadata": {
        "id": "W0BaHarmjlKq"
      },
      "source": [
        "#### 60. How to tell if a given 2D array has null columns? (★★☆) \n",
        "(**hint**: any, ~)"
      ]
    },
    {
      "cell_type": "code",
      "execution_count": 19,
      "metadata": {
        "id": "vPfJ53mXjlKq",
        "colab": {
          "base_uri": "https://localhost:8080/"
        },
        "outputId": "45699f46-656b-4234-b5f3-433fccc21ac9"
      },
      "outputs": [
        {
          "output_type": "stream",
          "name": "stdout",
          "text": [
            "[[ True False  True  True  True  True  True  True False  True]\n",
            " [False False  True  True False  True  True  True  True  True]\n",
            " [ True False False False False  True  True  True  True  True]]\n",
            "[[False  True False False False False False False  True False]\n",
            " [ True  True False False  True False False False False False]\n",
            " [False  True  True  True  True False False False False False]]\n"
          ]
        },
        {
          "output_type": "execute_result",
          "data": {
            "text/plain": [
              "array([ True, False,  True,  True,  True,  True,  True,  True,  True,\n",
              "        True])"
            ]
          },
          "metadata": {},
          "execution_count": 19
        }
      ],
      "source": [
        "z = np.random.randint(0,3,(3,10))\n",
        "z[:,1]=0\n",
        "z=z.astype(bool)\n",
        "print(z)\n",
        "print(~z)\n",
        "(z).any(axis=0)"
      ]
    },
    {
      "cell_type": "markdown",
      "metadata": {
        "id": "Y17XZQuJjlKr"
      },
      "source": [
        "#### 61. Find the nearest value from a given value in an array (★★☆) \n",
        "(**hint**: np.abs, argmin, flat)"
      ]
    },
    {
      "cell_type": "code",
      "execution_count": 22,
      "metadata": {
        "id": "EpyDmOywjlKr",
        "colab": {
          "base_uri": "https://localhost:8080/"
        },
        "outputId": "7917b790-2a6b-41a9-f7f1-a98c822d794b"
      },
      "outputs": [
        {
          "output_type": "stream",
          "name": "stdout",
          "text": [
            "0.5965033483792513\n"
          ]
        }
      ],
      "source": [
        "Z = np.random.uniform(0,1,10)\n",
        "z = 0.5\n",
        "m = Z.flat[np.abs(Z - z).argmin()]\n",
        "print(m)"
      ]
    },
    {
      "cell_type": "markdown",
      "metadata": {
        "id": "ZpuL45u5jlKr"
      },
      "source": [
        "#### 62. Considering two arrays with shape (1,3) and (3,1), how to compute their sum using an iterator? (★★☆) \n",
        "(**hint**: np.nditer)"
      ]
    },
    {
      "cell_type": "code",
      "execution_count": 27,
      "metadata": {
        "id": "V4n9D84njlKs",
        "colab": {
          "base_uri": "https://localhost:8080/"
        },
        "outputId": "1c3b5bba-3250-495e-c971-9c65271c0655"
      },
      "outputs": [
        {
          "output_type": "stream",
          "name": "stdout",
          "text": [
            "[[0 1 2]\n",
            " [1 2 3]\n",
            " [2 3 4]]\n"
          ]
        }
      ],
      "source": [
        "A = np.arange(3).reshape(3,1)\n",
        "B = np.arange(3).reshape(1,3)\n",
        "it = np.nditer([A,B,None])\n",
        "for x,y,z in it: z[...] = x + y\n",
        "print(it.operands[2])"
      ]
    },
    {
      "cell_type": "markdown",
      "metadata": {
        "id": "CprX6sbBjlKs"
      },
      "source": [
        "#### 63. Create an array class that has a name attribute (★★☆) \n",
        "(**hint**: class method)"
      ]
    },
    {
      "cell_type": "code",
      "execution_count": 28,
      "metadata": {
        "id": "LZjPK2uPjlKs",
        "colab": {
          "base_uri": "https://localhost:8080/"
        },
        "outputId": "b28b1cb2-2726-447a-bd81-63e6a0a24d78"
      },
      "outputs": [
        {
          "output_type": "stream",
          "name": "stdout",
          "text": [
            "range_10\n"
          ]
        }
      ],
      "source": [
        "class NamedArray(np.ndarray):\n",
        "    def __new__(cls, array, name=\"no name\"):\n",
        "        obj = np.asarray(array).view(cls)\n",
        "        obj.name = name\n",
        "        return obj\n",
        "    def __array_finalize__(self, obj):\n",
        "        if obj is None: return\n",
        "        self.info = getattr(obj, 'name', \"no name\")\n",
        "\n",
        "Z = NamedArray(np.arange(10), \"range_10\")\n",
        "print (Z.name)"
      ]
    },
    {
      "cell_type": "markdown",
      "metadata": {
        "id": "GVFVVQyjjlKs"
      },
      "source": [
        "#### 64. Consider a given vector, how to add 1 to each element indexed by a second vector (be careful with repeated indices)? (★★★) \n",
        "(**hint**: np.bincount | np.add.at)"
      ]
    },
    {
      "cell_type": "code",
      "execution_count": 30,
      "metadata": {
        "id": "HkSYAX6cjlKt",
        "colab": {
          "base_uri": "https://localhost:8080/"
        },
        "outputId": "450dd720-68ab-49a5-fb0b-f6a93cfc2b59"
      },
      "outputs": [
        {
          "output_type": "stream",
          "name": "stdout",
          "text": [
            "[2. 4. 3. 4. 2. 7. 2. 1. 1. 4.]\n"
          ]
        }
      ],
      "source": [
        "z = np.ones(10)\n",
        "i = np.random.randint(0,len(z),20)\n",
        "z+=np.bincount(i, minlength=len(z))\n",
        "print(z)"
      ]
    },
    {
      "cell_type": "markdown",
      "metadata": {
        "id": "7Q62MeyIjlKt"
      },
      "source": [
        "#### 65. How to accumulate elements of a vector (X) to an array (F) based on an index list (I)? (★★★) \n",
        "(**hint**: np.bincount)"
      ]
    },
    {
      "cell_type": "code",
      "execution_count": 32,
      "metadata": {
        "id": "mUGvfilajlKt",
        "colab": {
          "base_uri": "https://localhost:8080/"
        },
        "outputId": "0b31fae8-e647-4f1c-f06d-d83898a14e3e"
      },
      "outputs": [
        {
          "output_type": "stream",
          "name": "stdout",
          "text": [
            "[0. 7. 0. 6. 5. 0. 0. 0. 0. 3.]\n"
          ]
        }
      ],
      "source": [
        "x = [1,2,3,4,5,6]\n",
        "i = [1,3,9,3,4,1]\n",
        "f = np.bincount(i,x)\n",
        "print(f)"
      ]
    },
    {
      "cell_type": "markdown",
      "metadata": {
        "id": "V3W7aZWpjlKu"
      },
      "source": [
        "#### 66. Considering a (w,h,3) image of (dtype=ubyte), compute the number of unique colors (★★★) \n",
        "(**hint**: np.unique)"
      ]
    },
    {
      "cell_type": "code",
      "execution_count": 37,
      "metadata": {
        "id": "lbFN2s0ujlKu",
        "colab": {
          "base_uri": "https://localhost:8080/"
        },
        "outputId": "21c9e06d-972d-4507-eec0-2b350bb20ea0"
      },
      "outputs": [
        {
          "output_type": "stream",
          "name": "stdout",
          "text": [
            "[0 1]\n"
          ]
        }
      ],
      "source": [
        "w,h = 16,16\n",
        "I = np.random.randint(0,2,(h,w,3)).astype(np.ubyte)\n",
        "F = I[...,0]*256*256 + I[...,1]*256 +I[...,2]\n",
        "n = len(np.unique(F))\n",
        "print(np.unique(I))"
      ]
    },
    {
      "cell_type": "markdown",
      "metadata": {
        "id": "OxRS5naUjlKu"
      },
      "source": [
        "#### 67. Considering a four dimensions array, how to get sum over the last two axis at once? (★★★) \n",
        "(**hint**: sum(axis=(-2,-1)))"
      ]
    },
    {
      "cell_type": "code",
      "execution_count": 41,
      "metadata": {
        "id": "a29gmCH0jlKv",
        "colab": {
          "base_uri": "https://localhost:8080/"
        },
        "outputId": "34c37db0-a981-424f-b34f-a9d584ce9e19"
      },
      "outputs": [
        {
          "output_type": "stream",
          "name": "stdout",
          "text": [
            "[[56 56 70 59]\n",
            " [52 56 45 61]\n",
            " [64 48 54 48]]\n"
          ]
        }
      ],
      "source": [
        "a = np.random.randint(0,10,(3,4,3,4))\n",
        "sum = a.reshape(a.shape[:-2]+(-1,)).sum(axis=-1)\n",
        "print(sum)"
      ]
    },
    {
      "cell_type": "markdown",
      "metadata": {
        "id": "8oGHHllsjlKv"
      },
      "source": [
        "#### 68. Considering a one-dimensional vector D, how to compute means of subsets of D using a vector S of same size describing subset  indices? (★★★) \n",
        "(**hint**: np.bincount)"
      ]
    },
    {
      "cell_type": "code",
      "execution_count": 42,
      "metadata": {
        "id": "FeQX8GjpjlKv",
        "colab": {
          "base_uri": "https://localhost:8080/"
        },
        "outputId": "b5357119-07a8-4a60-a491-9b58436af480"
      },
      "outputs": [
        {
          "output_type": "stream",
          "name": "stdout",
          "text": [
            "[0.69149943 0.5718169  0.6020339  0.58548654 0.44584049 0.41441821\n",
            " 0.40984899 0.56067746 0.53267726 0.42904342]\n"
          ]
        }
      ],
      "source": [
        "d = np.random.uniform(0,1,100)\n",
        "s = np.random.randint(0,10,100)\n",
        "d_sums = np.bincount(s, weights=d)\n",
        "d_counts = np.bincount(s)\n",
        "d_means = d_sums/d_counts\n",
        "print(d_means)"
      ]
    },
    {
      "cell_type": "markdown",
      "metadata": {
        "id": "5HVVhlhJjlKw"
      },
      "source": [
        "#### 69. How to get the diagonal of a dot product? (★★★) \n",
        "(**hint**: np.diag)"
      ]
    },
    {
      "cell_type": "code",
      "execution_count": 43,
      "metadata": {
        "id": "IiloHSE6jlKw",
        "colab": {
          "base_uri": "https://localhost:8080/"
        },
        "outputId": "0a1c94d3-286a-4974-83d2-278410835178"
      },
      "outputs": [
        {
          "output_type": "execute_result",
          "data": {
            "text/plain": [
              "array([45, 15, 75])"
            ]
          },
          "metadata": {},
          "execution_count": 43
        }
      ],
      "source": [
        "a = np.random.randint(0,10,(3,3))\n",
        "b = np.random.randint(0,10,(3,3))\n",
        "np.diag(np.dot(a,b))"
      ]
    },
    {
      "cell_type": "markdown",
      "metadata": {
        "id": "dUQKdLMvjlKx"
      },
      "source": [
        "#### 70. Consider the vector \\[1, 2, 3, 4, 5\\], how to build a new vector with 3 consecutive zeros interleaved between each value? (★★★) \n",
        "(**hint**: array\\[::4\\])"
      ]
    },
    {
      "cell_type": "code",
      "execution_count": 44,
      "metadata": {
        "id": "DN_1n3C7jlKx",
        "colab": {
          "base_uri": "https://localhost:8080/"
        },
        "outputId": "0b388194-13cc-43b6-d049-9a0dce114da8"
      },
      "outputs": [
        {
          "output_type": "stream",
          "name": "stdout",
          "text": [
            "[1. 0. 0. 0. 2. 0. 0. 0. 3. 0. 0. 0. 4. 0. 0. 0. 5.]\n"
          ]
        }
      ],
      "source": [
        "z = np.array([1,2,3,4,5])\n",
        "nz = 3\n",
        "z0 = np.zeros(len(z)+(len(z)-1)*(nz))\n",
        "z0[::nz+1]=z\n",
        "print(z0)"
      ]
    },
    {
      "cell_type": "markdown",
      "metadata": {
        "id": "RWenrOBAjlKy"
      },
      "source": [
        "#### 71. Consider an array of dimension (5,5,3), how to mulitply it by an array with dimensions (5,5)? (★★★) \n",
        "(**hint**: array\\[:, :, None\\])"
      ]
    },
    {
      "cell_type": "code",
      "execution_count": 45,
      "metadata": {
        "collapsed": true,
        "id": "TbTuPzpTjlKy",
        "colab": {
          "base_uri": "https://localhost:8080/"
        },
        "outputId": "730bdc60-47db-426f-bcee-65770afc28bf"
      },
      "outputs": [
        {
          "output_type": "stream",
          "name": "stdout",
          "text": [
            "[[[2. 2. 2.]\n",
            "  [2. 2. 2.]\n",
            "  [2. 2. 2.]\n",
            "  [2. 2. 2.]\n",
            "  [2. 2. 2.]]\n",
            "\n",
            " [[2. 2. 2.]\n",
            "  [2. 2. 2.]\n",
            "  [2. 2. 2.]\n",
            "  [2. 2. 2.]\n",
            "  [2. 2. 2.]]\n",
            "\n",
            " [[2. 2. 2.]\n",
            "  [2. 2. 2.]\n",
            "  [2. 2. 2.]\n",
            "  [2. 2. 2.]\n",
            "  [2. 2. 2.]]\n",
            "\n",
            " [[2. 2. 2.]\n",
            "  [2. 2. 2.]\n",
            "  [2. 2. 2.]\n",
            "  [2. 2. 2.]\n",
            "  [2. 2. 2.]]\n",
            "\n",
            " [[2. 2. 2.]\n",
            "  [2. 2. 2.]\n",
            "  [2. 2. 2.]\n",
            "  [2. 2. 2.]\n",
            "  [2. 2. 2.]]]\n"
          ]
        }
      ],
      "source": [
        "a = np.ones((5,5,3))\n",
        "b = 2*np.ones((5,5))\n",
        "print(a*b[:,:,None])"
      ]
    },
    {
      "cell_type": "markdown",
      "metadata": {
        "id": "wsenjYiDjlKy"
      },
      "source": [
        "#### 72. How to swap two rows of an array? (★★★) \n",
        "(**hint**: array\\[\\[\\]\\] = array\\[\\[\\]\\])"
      ]
    },
    {
      "cell_type": "code",
      "execution_count": 47,
      "metadata": {
        "id": "A4Sa4OzGjlKz",
        "colab": {
          "base_uri": "https://localhost:8080/"
        },
        "outputId": "e5536117-328f-45d2-dbb2-4d39ead5a309"
      },
      "outputs": [
        {
          "output_type": "stream",
          "name": "stdout",
          "text": [
            "[[ 5  6  7  8  9]\n",
            " [ 0  1  2  3  4]\n",
            " [10 11 12 13 14]\n",
            " [15 16 17 18 19]\n",
            " [20 21 22 23 24]]\n"
          ]
        }
      ],
      "source": [
        "a = np.arange(25).reshape(5,5)\n",
        "a[[0,1]] = a[[1,0]]\n",
        "print(a)"
      ]
    },
    {
      "cell_type": "markdown",
      "metadata": {
        "id": "wOZr47vMjlKz"
      },
      "source": [
        "#### 73. Consider a set of 10 triplets describing 10 triangles (with shared vertices), find the set of unique line segments composing all the  triangles (★★★) \n",
        "(**hint**: repeat, np.roll, np.sort, view, np.unique)"
      ]
    },
    {
      "cell_type": "code",
      "execution_count": null,
      "metadata": {
        "id": "mxwkDfURjlKz"
      },
      "outputs": [],
      "source": [
        ""
      ]
    },
    {
      "cell_type": "markdown",
      "metadata": {
        "id": "0QoWwYYzjlKz"
      },
      "source": [
        "#### 74. Given an array C that is a bincount, how to produce an array A such that np.bincount(A) == C? (★★★) \n",
        "(**hint**: np.repeat)"
      ]
    },
    {
      "cell_type": "code",
      "execution_count": 48,
      "metadata": {
        "id": "r4xtr2fCjlK0",
        "colab": {
          "base_uri": "https://localhost:8080/"
        },
        "outputId": "c3f5edd9-61d7-421a-bba7-e9467c51b7d1"
      },
      "outputs": [
        {
          "output_type": "stream",
          "name": "stdout",
          "text": [
            "[1 1 2 3 4 4 6]\n"
          ]
        }
      ],
      "source": [
        "c = np.bincount([1,1,2,3,4,4,6])\n",
        "a = np.repeat(np.arange(len(c)),c)\n",
        "print(a)"
      ]
    },
    {
      "cell_type": "markdown",
      "metadata": {
        "id": "1Y9qsyJ1jlK0"
      },
      "source": [
        "#### 75. How to compute averages using a sliding window over an array? (★★★) \n",
        "(**hint**: np.cumsum)"
      ]
    },
    {
      "cell_type": "code",
      "execution_count": 51,
      "metadata": {
        "id": "9nrjllFujlK1",
        "colab": {
          "base_uri": "https://localhost:8080/"
        },
        "outputId": "6461590b-4b4e-4326-ff29-f88cd0a8d82b"
      },
      "outputs": [
        {
          "output_type": "stream",
          "name": "stdout",
          "text": [
            "[ 1.  2.  3.  4.  5.  6.  7.  8.  9. 10. 11. 12. 13. 14. 15. 16. 17. 18.]\n"
          ]
        }
      ],
      "source": [
        "def moving_average(a, n=3):\n",
        "  ret = np.cumsum(a, dtype=float)\n",
        "  ret[n:] = ret[n:]-ret[:-n]\n",
        "  return ret[n-1:]/n\n",
        "z=np.arange(20)\n",
        "print(moving_average(z,n=3))"
      ]
    },
    {
      "cell_type": "markdown",
      "metadata": {
        "id": "BiTegliSjlK2"
      },
      "source": [
        "#### 76. Consider a one-dimensional array Z, build a two-dimensional array whose first row is (Z\\[0\\],Z\\[1\\],Z\\[2\\]) and each subsequent row is  shifted by 1 (last row should be (Z\\[-3\\],Z\\[-2\\],Z\\[-1\\]) (★★★) \n",
        "(**hint**: from numpy.lib import stride_tricks)"
      ]
    },
    {
      "cell_type": "code",
      "execution_count": 52,
      "metadata": {
        "id": "73bP9aCgjlK2",
        "colab": {
          "base_uri": "https://localhost:8080/"
        },
        "outputId": "f9b97dfb-51ff-42c1-c091-1ca856c43387"
      },
      "outputs": [
        {
          "output_type": "stream",
          "name": "stdout",
          "text": [
            "[[0 1 2]\n",
            " [1 2 3]\n",
            " [2 3 4]\n",
            " [3 4 5]\n",
            " [4 5 6]\n",
            " [5 6 7]\n",
            " [6 7 8]\n",
            " [7 8 9]]\n"
          ]
        }
      ],
      "source": [
        "def rolling(a,window):\n",
        "  shape = (a.size-window+1,window)\n",
        "  strides = (a.itemsize, a.itemsize)\n",
        "  return np.lib.stride_tricks.as_strided(a, shape=shape, strides=strides)\n",
        "z= rolling(np.arange(10),3)\n",
        "print(z)"
      ]
    },
    {
      "cell_type": "markdown",
      "metadata": {
        "id": "wZlN4kNmjlK3"
      },
      "source": [
        "#### 77. How to negate a boolean, or to change the sign of a float inplace? (★★★) \n",
        "(**hint**: np.logical_not, np.negative)"
      ]
    },
    {
      "cell_type": "code",
      "execution_count": 53,
      "metadata": {
        "id": "_yO24WHwjlK3",
        "colab": {
          "base_uri": "https://localhost:8080/"
        },
        "outputId": "442d7a1a-c1a1-4d06-da78-c105417b4a36"
      },
      "outputs": [
        {
          "output_type": "stream",
          "name": "stdout",
          "text": [
            "original\n",
            "[1 0 1 1 0 1 0 0 1 0 1 0 1 0 1 0 0 0 1 0 1 0 0 1 1 0 1 1 1 1 0 0 1 1 0 1 1\n",
            " 1 0 0 0 1 0 1 1 0 1 0 1 0 1 1 0 1 1 1 1 0 0 0 0 1 0 0 0 0 0 1 0 0 0 1 1 1\n",
            " 0 0 1 1 1 1 0 1 0 1 0 1 0 1 0 0 0 0 1 1 0 0 1 1 0 0]\n",
            "Negating a boolean : \n",
            "[0 1 0 0 1 0 1 1 0 1 0 1 0 1 0 1 1 1 0 1 0 1 1 0 0 1 0 0 0 0 1 1 0 0 1 0 0\n",
            " 0 1 1 1 0 1 0 0 1 0 1 0 1 0 0 1 0 0 0 0 1 1 1 1 0 1 1 1 1 1 0 1 1 1 0 0 0\n",
            " 1 1 0 0 0 0 1 0 1 0 1 0 1 0 1 1 1 1 0 0 1 1 0 0 1 1]\n",
            "original\n",
            "[-0.38083723 -0.14946994  0.11705514 -0.19160363 -0.17933351 -0.47288294\n",
            "  0.33778989  0.65885972 -0.53583982  0.02726186]\n",
            "change the sign of float inplace : \n",
            "[ 0.38083723  0.14946994 -0.11705514  0.19160363  0.17933351  0.47288294\n",
            " -0.33778989 -0.65885972  0.53583982 -0.02726186]\n"
          ]
        }
      ],
      "source": [
        "z = np.random.randint(0,2,100)\n",
        "print(\"original\")\n",
        "print(z)\n",
        "print(\"Negating a boolean : \")\n",
        "print(np.logical_not(z, out=z))\n",
        "\n",
        "z = np.random.uniform(-1.0,1.0,10)\n",
        "print(\"original\")\n",
        "print(z)\n",
        "print(\"change the sign of float inplace : \")\n",
        "print(np.negative(z, out=z))"
      ]
    },
    {
      "cell_type": "markdown",
      "metadata": {
        "id": "20FjPofGjlK3"
      },
      "source": [
        "#### 78. Consider 2 sets of points P0,P1 describing lines (2d) and a point p, how to compute distance from p to each line i  (P0\\[i\\],P1\\[i\\])? (★★★)"
      ]
    },
    {
      "cell_type": "code",
      "execution_count": null,
      "metadata": {
        "id": "sRaqVWhwjlK4"
      },
      "outputs": [],
      "source": [
        ""
      ]
    },
    {
      "cell_type": "markdown",
      "metadata": {
        "id": "cWOF5aZFjlK4"
      },
      "source": [
        "#### 79. Consider 2 sets of points P0,P1 describing lines (2d) and a set of points P, how to compute distance from each point j (P\\[j\\]) to each line i (P0\\[i\\],P1\\[i\\])? (★★★)"
      ]
    },
    {
      "cell_type": "code",
      "execution_count": null,
      "metadata": {
        "id": "ddKWoOXCjlK5"
      },
      "outputs": [],
      "source": [
        ""
      ]
    },
    {
      "cell_type": "markdown",
      "metadata": {
        "id": "yvhj3LTijlK5"
      },
      "source": [
        "#### 80. Consider an arbitrary array, write a function that extract a subpart with a fixed shape and centered on a given element (pad with a `fill` value when necessary) (★★★) \n",
        "(**hint**: minimum, maximum)"
      ]
    },
    {
      "cell_type": "code",
      "execution_count": null,
      "metadata": {
        "id": "fmq0QFMujlK5"
      },
      "outputs": [],
      "source": [
        ""
      ]
    },
    {
      "cell_type": "markdown",
      "metadata": {
        "id": "16j8cNwJjlK6"
      },
      "source": [
        "#### 81. Consider an array Z = \\[1,2,3,4,5,6,7,8,9,10,11,12,13,14\\], how to generate an array R = \\[\\[1,2,3,4\\], \\[2,3,4,5\\], \\[3,4,5,6\\], ..., \\[11,12,13,14\\]\\]? (★★★) \n",
        "(**hint**: stride\\_tricks.as\\_strided)"
      ]
    },
    {
      "cell_type": "code",
      "execution_count": null,
      "metadata": {
        "id": "O1xM-dSCjlK6"
      },
      "outputs": [],
      "source": [
        ""
      ]
    },
    {
      "cell_type": "markdown",
      "metadata": {
        "id": "JOK96FlUjlK6"
      },
      "source": [
        "#### 82. Compute a matrix rank (★★★) \n",
        "(**hint**: np.linalg.svd) (suggestion: np.linalg.svd)"
      ]
    },
    {
      "cell_type": "code",
      "execution_count": 54,
      "metadata": {
        "id": "6D7jn4tHjlK7",
        "colab": {
          "base_uri": "https://localhost:8080/"
        },
        "outputId": "c1b894f4-e4fd-49a9-f76b-ef337988a292"
      },
      "outputs": [
        {
          "output_type": "stream",
          "name": "stdout",
          "text": [
            "10\n"
          ]
        }
      ],
      "source": [
        "z = np.random.uniform(0,1,(10,10))\n",
        "u,s, v= np.linalg.svd(z)\n",
        "rank = np.sum(s>1e-10)\n",
        "print(rank)"
      ]
    },
    {
      "cell_type": "markdown",
      "metadata": {
        "id": "7yI2Tmt3jlK7"
      },
      "source": [
        "#### 83. How to find the most frequent value in an array? \n",
        "(**hint**: np.bincount, argmax)"
      ]
    },
    {
      "cell_type": "code",
      "execution_count": 56,
      "metadata": {
        "id": "OLxECUbMjlK7",
        "colab": {
          "base_uri": "https://localhost:8080/"
        },
        "outputId": "caac715a-29ce-4dbf-f743-19e6a376d569"
      },
      "outputs": [
        {
          "output_type": "stream",
          "name": "stdout",
          "text": [
            "[0 2 3 7 7 5 0 6 8 7 2 8 5 4 1 4 9 2 5 5 0 9 4 5 9 5 5 3 4 7 8 6 5 6 3 3 6\n",
            " 1 0 8 2 8 5 7 2 8 4 8 1 1]\n",
            "rank:  5\n"
          ]
        }
      ],
      "source": [
        "z = np.random.randint(0,10,50)\n",
        "print(z)\n",
        "print('rank: ', np.bincount(z).argmax())"
      ]
    },
    {
      "cell_type": "markdown",
      "metadata": {
        "id": "GO_n57AijlK8"
      },
      "source": [
        "#### 84. Extract all the contiguous 3x3 blocks from a random 10x10 matrix (★★★) \n",
        "(**hint**: stride\\_tricks.as\\_strided)"
      ]
    },
    {
      "cell_type": "code",
      "execution_count": 58,
      "metadata": {
        "id": "tneAcQJNjlK8",
        "colab": {
          "base_uri": "https://localhost:8080/",
          "height": 217
        },
        "outputId": "2f3dc9cf-d9a8-4093-c942-119f8bc794fa"
      },
      "outputs": [
        {
          "output_type": "error",
          "ename": "NameError",
          "evalue": "ignored",
          "traceback": [
            "\u001b[0;31m---------------------------------------------------------------------------\u001b[0m",
            "\u001b[0;31mNameError\u001b[0m                                 Traceback (most recent call last)",
            "\u001b[0;32m<ipython-input-58-24dfd8e3ff0a>\u001b[0m in \u001b[0;36m<module>\u001b[0;34m\u001b[0m\n\u001b[1;32m      3\u001b[0m \u001b[0mi\u001b[0m \u001b[0;34m=\u001b[0m \u001b[0;36m1\u001b[0m \u001b[0;34m+\u001b[0m \u001b[0;34m(\u001b[0m\u001b[0mZ\u001b[0m\u001b[0;34m.\u001b[0m\u001b[0mshape\u001b[0m\u001b[0;34m[\u001b[0m\u001b[0;36m0\u001b[0m\u001b[0;34m]\u001b[0m\u001b[0;34m-\u001b[0m\u001b[0;36m3\u001b[0m\u001b[0;34m)\u001b[0m\u001b[0;34m\u001b[0m\u001b[0;34m\u001b[0m\u001b[0m\n\u001b[1;32m      4\u001b[0m \u001b[0mj\u001b[0m \u001b[0;34m=\u001b[0m \u001b[0;36m1\u001b[0m \u001b[0;34m+\u001b[0m \u001b[0;34m(\u001b[0m\u001b[0mZ\u001b[0m\u001b[0;34m.\u001b[0m\u001b[0mshape\u001b[0m\u001b[0;34m[\u001b[0m\u001b[0;36m1\u001b[0m\u001b[0;34m]\u001b[0m\u001b[0;34m-\u001b[0m\u001b[0;36m3\u001b[0m\u001b[0;34m)\u001b[0m\u001b[0;34m\u001b[0m\u001b[0;34m\u001b[0m\u001b[0m\n\u001b[0;32m----> 5\u001b[0;31m \u001b[0mC\u001b[0m \u001b[0;34m=\u001b[0m \u001b[0mstride_tricks\u001b[0m\u001b[0;34m.\u001b[0m\u001b[0mas_strided\u001b[0m\u001b[0;34m(\u001b[0m\u001b[0mZ\u001b[0m\u001b[0;34m,\u001b[0m \u001b[0mshape\u001b[0m\u001b[0;34m=\u001b[0m\u001b[0;34m(\u001b[0m\u001b[0mi\u001b[0m\u001b[0;34m,\u001b[0m \u001b[0mj\u001b[0m\u001b[0;34m,\u001b[0m \u001b[0mn\u001b[0m\u001b[0;34m,\u001b[0m \u001b[0mn\u001b[0m\u001b[0;34m)\u001b[0m\u001b[0;34m,\u001b[0m \u001b[0mstrides\u001b[0m\u001b[0;34m=\u001b[0m\u001b[0mZ\u001b[0m\u001b[0;34m.\u001b[0m\u001b[0mstrides\u001b[0m \u001b[0;34m+\u001b[0m \u001b[0mZ\u001b[0m\u001b[0;34m.\u001b[0m\u001b[0mstrides\u001b[0m\u001b[0;34m)\u001b[0m\u001b[0;34m\u001b[0m\u001b[0;34m\u001b[0m\u001b[0m\n\u001b[0m\u001b[1;32m      6\u001b[0m \u001b[0mprint\u001b[0m\u001b[0;34m(\u001b[0m\u001b[0mC\u001b[0m\u001b[0;34m)\u001b[0m\u001b[0;34m\u001b[0m\u001b[0;34m\u001b[0m\u001b[0m\n",
            "\u001b[0;31mNameError\u001b[0m: name 'stride_tricks' is not defined"
          ]
        }
      ],
      "source": [
        "Z = np.random.randint(0,5,(10,10))\n",
        "n = 3\n",
        "i = 1 + (Z.shape[0]-3)\n",
        "j = 1 + (Z.shape[1]-3)\n",
        "C = stride_tricks.as_strided(Z, shape=(i, j, n, n), strides=Z.strides + Z.strides)\n",
        "print(C)"
      ]
    },
    {
      "cell_type": "markdown",
      "metadata": {
        "id": "4s0nhlYljlK8"
      },
      "source": [
        "#### 85. Create a 2D array subclass such that Z\\[i,j\\] == Z\\[j,i\\] (★★★) \n",
        "(**hint**: class method)"
      ]
    },
    {
      "cell_type": "code",
      "execution_count": null,
      "metadata": {
        "id": "gzIx76g_jlK9"
      },
      "outputs": [],
      "source": [
        ""
      ]
    },
    {
      "cell_type": "markdown",
      "metadata": {
        "id": "r3ztzHREjlK9"
      },
      "source": [
        "#### 86. Consider a set of p matrices wich shape (n,n) and a set of p vectors with shape (n,1). How to compute the sum of of the p matrix products at once? (result has shape (n,1)) (★★★) \n",
        "(**hint**: np.tensordot)"
      ]
    },
    {
      "cell_type": "code",
      "execution_count": 59,
      "metadata": {
        "id": "Mz2BKZpHjlK-",
        "colab": {
          "base_uri": "https://localhost:8080/"
        },
        "outputId": "a982e03b-5a69-4480-8991-85757caef87a"
      },
      "outputs": [
        {
          "output_type": "stream",
          "name": "stdout",
          "text": [
            "[[200.]\n",
            " [200.]\n",
            " [200.]\n",
            " [200.]\n",
            " [200.]\n",
            " [200.]\n",
            " [200.]\n",
            " [200.]\n",
            " [200.]\n",
            " [200.]\n",
            " [200.]\n",
            " [200.]\n",
            " [200.]\n",
            " [200.]\n",
            " [200.]\n",
            " [200.]\n",
            " [200.]\n",
            " [200.]\n",
            " [200.]\n",
            " [200.]]\n"
          ]
        }
      ],
      "source": [
        "p,n = 10,20\n",
        "m = np.ones((p,n,n))\n",
        "v = np.ones((p,n,1))\n",
        "s = np.tensordot(m,v, axes=[[0,2],[0,1]])\n",
        "print(s)"
      ]
    },
    {
      "cell_type": "markdown",
      "metadata": {
        "id": "HrKJF-91jlK-"
      },
      "source": [
        "#### 87. Consider a 16x16 array, how to get the block-sum (block size is 4x4)? (★★★) \n",
        "(**hint**: np.add.reduceat)"
      ]
    },
    {
      "cell_type": "code",
      "execution_count": 60,
      "metadata": {
        "id": "-oByO51kjlK_",
        "colab": {
          "base_uri": "https://localhost:8080/"
        },
        "outputId": "6cac1f8f-abd8-4c99-b813-0a6f78993bb8"
      },
      "outputs": [
        {
          "output_type": "stream",
          "name": "stdout",
          "text": [
            "input array\n",
            "[[1. 1. 1. 1. 1. 1. 1. 1. 1. 1. 1. 1. 1. 1. 1. 1.]\n",
            " [1. 1. 1. 1. 1. 1. 1. 1. 1. 1. 1. 1. 1. 1. 1. 1.]\n",
            " [1. 1. 1. 1. 1. 1. 1. 1. 1. 1. 1. 1. 1. 1. 1. 1.]\n",
            " [1. 1. 1. 1. 1. 1. 1. 1. 1. 1. 1. 1. 1. 1. 1. 1.]\n",
            " [1. 1. 1. 1. 1. 1. 1. 1. 1. 1. 1. 1. 1. 1. 1. 1.]\n",
            " [1. 1. 1. 1. 1. 1. 1. 1. 1. 1. 1. 1. 1. 1. 1. 1.]\n",
            " [1. 1. 1. 1. 1. 1. 1. 1. 1. 1. 1. 1. 1. 1. 1. 1.]\n",
            " [1. 1. 1. 1. 1. 1. 1. 1. 1. 1. 1. 1. 1. 1. 1. 1.]\n",
            " [1. 1. 1. 1. 1. 1. 1. 1. 1. 1. 1. 1. 1. 1. 1. 1.]\n",
            " [1. 1. 1. 1. 1. 1. 1. 1. 1. 1. 1. 1. 1. 1. 1. 1.]\n",
            " [1. 1. 1. 1. 1. 1. 1. 1. 1. 1. 1. 1. 1. 1. 1. 1.]\n",
            " [1. 1. 1. 1. 1. 1. 1. 1. 1. 1. 1. 1. 1. 1. 1. 1.]\n",
            " [1. 1. 1. 1. 1. 1. 1. 1. 1. 1. 1. 1. 1. 1. 1. 1.]\n",
            " [1. 1. 1. 1. 1. 1. 1. 1. 1. 1. 1. 1. 1. 1. 1. 1.]\n",
            " [1. 1. 1. 1. 1. 1. 1. 1. 1. 1. 1. 1. 1. 1. 1. 1.]\n",
            " [1. 1. 1. 1. 1. 1. 1. 1. 1. 1. 1. 1. 1. 1. 1. 1.]]\n",
            "block sum\n",
            "[[16. 16. 16. 16.]\n",
            " [16. 16. 16. 16.]\n",
            " [16. 16. 16. 16.]\n",
            " [16. 16. 16. 16.]]\n"
          ]
        }
      ],
      "source": [
        "z = np.ones((16,16))\n",
        "k=4\n",
        "s=np.add.reduceat(np.add.reduceat(z, np.arange(0, z.shape[0],k), axis=0),\n",
        "                  np.arange(0,z.shape[1],k),axis=1)\n",
        "print('input array')\n",
        "print(z)\n",
        "print('block sum')\n",
        "print(s)"
      ]
    },
    {
      "cell_type": "markdown",
      "metadata": {
        "id": "zG4tZpuWjlK_"
      },
      "source": [
        "#### 88. How to implement the Game of Life using numpy arrays? (★★★)"
      ]
    },
    {
      "cell_type": "code",
      "execution_count": null,
      "metadata": {
        "id": "nrfqAVQcjlLA"
      },
      "outputs": [],
      "source": [
        ""
      ]
    },
    {
      "cell_type": "markdown",
      "metadata": {
        "id": "FvWmgZ_ZjlLA"
      },
      "source": [
        "#### 89. How to get the n largest values of an array (★★★) \n",
        "(**hint**: np.argsort | np.argpartition)"
      ]
    },
    {
      "cell_type": "code",
      "execution_count": null,
      "metadata": {
        "id": "mUPggfJyjlLB"
      },
      "outputs": [],
      "source": [
        ""
      ]
    },
    {
      "cell_type": "markdown",
      "metadata": {
        "id": "Whh72MPyjlLB"
      },
      "source": [
        "#### 90. Given an arbitrary number of vectors, build the cartesian product (every combinations of every item) (★★★) \n",
        "(**hint**: np.indices)"
      ]
    },
    {
      "cell_type": "code",
      "execution_count": 63,
      "metadata": {
        "scrolled": true,
        "id": "TaVfuO46jlLC",
        "colab": {
          "base_uri": "https://localhost:8080/"
        },
        "outputId": "d7e8d8c6-96bf-4750-852c-79a94ba66a52"
      },
      "outputs": [
        {
          "output_type": "stream",
          "name": "stdout",
          "text": [
            "[[1 4 6]\n",
            " [1 4 7]\n",
            " [1 5 6]\n",
            " [1 5 7]\n",
            " [2 4 6]\n",
            " [2 4 7]\n",
            " [2 5 6]\n",
            " [2 5 7]\n",
            " [3 4 6]\n",
            " [3 4 7]\n",
            " [3 5 6]\n",
            " [3 5 7]]\n"
          ]
        }
      ],
      "source": [
        "def cartesian(arrays):\n",
        "  arrays = [np.asarray(a) for a in arrays]\n",
        "  shape = (len(x) for x in arrays)\n",
        "\n",
        "  ix = np.indices(shape, dtype=int)\n",
        "  ix = ix.reshape(len(arrays), -1).T\n",
        "  for n, arr in enumerate(arrays):\n",
        "    ix[:,n] = arrays[n][ix[:,n]]\n",
        "  return ix\n",
        "print(cartesian(([1,2,3],[4,5],[6,7])))"
      ]
    },
    {
      "cell_type": "markdown",
      "metadata": {
        "id": "Ar3euqEJjlLC"
      },
      "source": [
        "#### 91. How to create a record array from a regular array? (★★★) \n",
        "(**hint**: np.core.records.fromarrays)"
      ]
    },
    {
      "cell_type": "code",
      "execution_count": 68,
      "metadata": {
        "id": "TxIrEXy8jlLC",
        "colab": {
          "base_uri": "https://localhost:8080/"
        },
        "outputId": "1fa241ed-29c3-49d4-f50a-15834994006e"
      },
      "outputs": [
        {
          "output_type": "stream",
          "name": "stdout",
          "text": [
            "[(b'hello', 2.5, 3) (b'world', 3.6, 2)]\n"
          ]
        }
      ],
      "source": [
        "z = np.array([(\"hello\",2.5,3),\n",
        "              (\"world\", 3.6,2)])\n",
        "r = np.core.records.fromarrays(z.T,\n",
        "                               names ='col1,col2,col3',\n",
        "                               formats = 'S8,f8,i8')\n",
        "print(r)"
      ]
    },
    {
      "cell_type": "markdown",
      "metadata": {
        "id": "ft6tjW_7jlLC"
      },
      "source": [
        "#### 92. Consider a large vector Z, compute Z to the power of 3 using 3 different methods (★★★) \n",
        "(**hint**: np.power, \\*, np.einsum)"
      ]
    },
    {
      "cell_type": "code",
      "execution_count": 71,
      "metadata": {
        "id": "cCuCCU7CjlLD"
      },
      "outputs": [],
      "source": [
        ""
      ]
    },
    {
      "cell_type": "markdown",
      "metadata": {
        "id": "OU6paymMjlLD"
      },
      "source": [
        "#### 93. Consider two arrays A and B of shape (8,3) and (2,2). How to find rows of A that contain elements of each row of B regardless of the order of the elements in B? (★★★) \n",
        "(**hint**: np.where)"
      ]
    },
    {
      "cell_type": "code",
      "execution_count": 75,
      "metadata": {
        "id": "BEc3UwEmjlLD",
        "colab": {
          "base_uri": "https://localhost:8080/"
        },
        "outputId": "fd9bcc00-63f6-4ba0-a33c-7d5d039cb4c1"
      },
      "outputs": [
        {
          "output_type": "stream",
          "name": "stdout",
          "text": [
            "[0 1 2 3 4 5 6 7]\n"
          ]
        }
      ],
      "source": [
        "a = np.random.randint(0,5,(8,3))\n",
        "b = np.random.randint(0,5,(2,2))\n",
        "c = (a[..., np.newaxis, np.newaxis]==b)\n",
        "rows = (c.sum(axis=(1,2,3)) >=b.shape[1]).nonzero()[0]\n",
        "print(rows)"
      ]
    },
    {
      "cell_type": "markdown",
      "metadata": {
        "id": "NwKm6DMkjlLE"
      },
      "source": [
        "#### 94. Considering a 10x3 matrix, extract rows with unequal values (e.g. \\[2,2,3\\]) (★★★)"
      ]
    },
    {
      "cell_type": "code",
      "execution_count": 76,
      "metadata": {
        "id": "oDQOWhOOjlLE",
        "colab": {
          "base_uri": "https://localhost:8080/"
        },
        "outputId": "fa367da9-658e-49fa-d09a-1416fff470fe"
      },
      "outputs": [
        {
          "output_type": "stream",
          "name": "stdout",
          "text": [
            "[[4 1 2]\n",
            " [3 0 4]\n",
            " [4 2 4]\n",
            " [3 0 0]\n",
            " [4 2 1]\n",
            " [2 3 0]\n",
            " [1 3 0]\n",
            " [4 1 0]\n",
            " [4 0 1]\n",
            " [4 4 0]]\n",
            "[[4 1 2]\n",
            " [3 0 4]\n",
            " [4 2 4]\n",
            " [3 0 0]\n",
            " [4 2 1]\n",
            " [2 3 0]\n",
            " [1 3 0]\n",
            " [4 1 0]\n",
            " [4 0 1]\n",
            " [4 4 0]]\n"
          ]
        }
      ],
      "source": [
        "z = np.random.randint(0,5,(10,3))\n",
        "e = np.logical_and.reduce(z[:,1:]==z[:,:-1],axis=1)\n",
        "u = z[~e]\n",
        "print(z)\n",
        "print(u)"
      ]
    },
    {
      "cell_type": "markdown",
      "metadata": {
        "id": "bDmxCB_ejlLE"
      },
      "source": [
        "#### 95. Convert a vector of ints into a matrix binary representation (★★★) \n",
        "(**hint**: np.unpackbits)"
      ]
    },
    {
      "cell_type": "code",
      "execution_count": 78,
      "metadata": {
        "id": "pvWBP9O5jlLE",
        "colab": {
          "base_uri": "https://localhost:8080/"
        },
        "outputId": "077adfea-a4e5-41e5-ffd3-6166b7e520bb"
      },
      "outputs": [
        {
          "output_type": "stream",
          "name": "stdout",
          "text": [
            "[[0 0 0 0 0 0 0 0]\n",
            " [0 0 0 0 0 0 0 1]\n",
            " [0 0 0 0 0 0 1 0]\n",
            " [0 0 0 0 0 0 1 1]\n",
            " [0 0 0 0 1 1 1 1]\n",
            " [0 0 0 1 0 0 0 0]\n",
            " [0 0 1 0 0 0 0 0]\n",
            " [0 1 0 0 0 0 0 0]\n",
            " [1 0 0 0 0 0 0 0]]\n"
          ]
        }
      ],
      "source": [
        "i = np.array([0,1,2,3,15,16,32,64,128], dtype=np.uint8)\n",
        "print(np.unpackbits(i[:, np.newaxis],axis=1))"
      ]
    },
    {
      "cell_type": "markdown",
      "metadata": {
        "id": "nKB2vIfzjlLF"
      },
      "source": [
        "#### 96. Given a two dimensional array, how to extract unique rows? (★★★) \n",
        "(**hint**: np.ascontiguousarray)"
      ]
    },
    {
      "cell_type": "code",
      "execution_count": null,
      "metadata": {
        "id": "QibPBEJWjlLG"
      },
      "outputs": [],
      "source": [
        ""
      ]
    },
    {
      "cell_type": "markdown",
      "metadata": {
        "id": "nSQti-lfjlLG"
      },
      "source": [
        "#### 97. Considering 2 vectors A & B, write the einsum equivalent of inner, outer, sum, and mul function (★★★) \n",
        "(**hint**: np.einsum)"
      ]
    },
    {
      "cell_type": "code",
      "execution_count": null,
      "metadata": {
        "id": "nEouEg_LjlLG"
      },
      "outputs": [],
      "source": [
        ""
      ]
    },
    {
      "cell_type": "markdown",
      "metadata": {
        "id": "yOHb76BljlLG"
      },
      "source": [
        "#### 98. Considering a path described by two vectors (X,Y), how to sample it using equidistant samples (★★★)? \n",
        "(**hint**: np.cumsum, np.interp)"
      ]
    },
    {
      "cell_type": "code",
      "execution_count": null,
      "metadata": {
        "collapsed": true,
        "id": "S03WACaXjlLH"
      },
      "outputs": [],
      "source": [
        ""
      ]
    },
    {
      "cell_type": "markdown",
      "metadata": {
        "id": "qLn_UB9OjlLH"
      },
      "source": [
        "#### 99. Given an integer n and a 2D array X, select from X the rows which can be interpreted as draws from a multinomial distribution with n degrees, i.e., the rows which only contain integers and which sum to n. (★★★) \n",
        "(**hint**: np.logical\\_and.reduce, np.mod)"
      ]
    },
    {
      "cell_type": "code",
      "execution_count": null,
      "metadata": {
        "id": "Zh7aBFSHjlLI"
      },
      "outputs": [],
      "source": [
        ""
      ]
    },
    {
      "cell_type": "markdown",
      "metadata": {
        "id": "HyCrgIc_jlLI"
      },
      "source": [
        "#### 100. Compute bootstrapped 95% confidence intervals for the mean of a 1D array X (i.e., resample the elements of an array with replacement N times, compute the mean of each sample, and then compute percentiles over the means). (★★★) \n",
        "(**hint**: np.percentile)"
      ]
    },
    {
      "cell_type": "code",
      "execution_count": null,
      "metadata": {
        "id": "o-Jny4gqjlLI"
      },
      "outputs": [],
      "source": [
        ""
      ]
    }
  ],
  "metadata": {
    "kernelspec": {
      "display_name": "Python 3",
      "language": "python",
      "name": "python3"
    },
    "language_info": {
      "codemirror_mode": {
        "name": "ipython",
        "version": 3
      },
      "file_extension": ".py",
      "mimetype": "text/x-python",
      "name": "python",
      "nbconvert_exporter": "python",
      "pygments_lexer": "ipython3",
      "version": "3.8.3"
    },
    "colab": {
      "name": "Numpy_task 2.ipynb",
      "provenance": [],
      "collapsed_sections": [
        "wOZr47vMjlKz",
        "cWOF5aZFjlK4",
        "yvhj3LTijlK5",
        "16j8cNwJjlK6",
        "4s0nhlYljlK8",
        "FvWmgZ_ZjlLA",
        "nSQti-lfjlLG",
        "yOHb76BljlLG",
        "qLn_UB9OjlLH",
        "HyCrgIc_jlLI"
      ],
      "include_colab_link": true
    }
  },
  "nbformat": 4,
  "nbformat_minor": 0
}