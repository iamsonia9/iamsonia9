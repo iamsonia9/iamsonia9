{
  "nbformat": 4,
  "nbformat_minor": 0,
  "metadata": {
    "colab": {
      "name": "TASK_1",
      "provenance": [],
      "collapsed_sections": [],
      "authorship_tag": "ABX9TyMT6yF11IsByFL2zv1AqoO2",
      "include_colab_link": true
    },
    "kernelspec": {
      "name": "python3",
      "display_name": "Python 3"
    },
    "language_info": {
      "name": "python"
    }
  },
  "cells": [
    {
      "cell_type": "markdown",
      "metadata": {
        "id": "view-in-github",
        "colab_type": "text"
      },
      "source": [
        "<a href=\"https://colab.research.google.com/github/iamsonia9/iamsonia9/blob/main/TASK_1.ipynb\" target=\"_parent\"><img src=\"https://colab.research.google.com/assets/colab-badge.svg\" alt=\"Open In Colab\"/></a>"
      ]
    },
    {
      "cell_type": "code",
      "execution_count": 1,
      "metadata": {
        "colab": {
          "base_uri": "https://localhost:8080/"
        },
        "id": "FPYhs72VUF6-",
        "outputId": "d82eb24f-205e-4b3c-b820-f3b618bf2773"
      },
      "outputs": [
        {
          "output_type": "stream",
          "name": "stdout",
          "text": [
            "Looking in indexes: https://pypi.org/simple, https://us-python.pkg.dev/colab-wheels/public/simple/\n",
            "Collecting dnspython\n",
            "  Downloading dnspython-2.2.1-py3-none-any.whl (269 kB)\n",
            "\u001b[K     |████████████████████████████████| 269 kB 28.4 MB/s \n",
            "\u001b[?25hInstalling collected packages: dnspython\n",
            "Successfully installed dnspython-2.2.1\n",
            "Looking in indexes: https://pypi.org/simple, https://us-python.pkg.dev/colab-wheels/public/simple/\n",
            "Requirement already satisfied: pymongo[srv] in /usr/local/lib/python3.7/dist-packages (4.2.0)\n",
            "Requirement already satisfied: dnspython<3.0.0,>=1.16.0 in /usr/local/lib/python3.7/dist-packages (from pymongo[srv]) (2.2.1)\n"
          ]
        }
      ],
      "source": [
        "!pip install dnspython\n",
        "!pip install pymongo[srv]"
      ]
    },
    {
      "cell_type": "code",
      "source": [
        "import re"
      ],
      "metadata": {
        "id": "sPhChzvmpOjp"
      },
      "execution_count": 2,
      "outputs": []
    },
    {
      "cell_type": "code",
      "source": [
        "def register():\n",
        "  Username = input(\"Create username : \")\n",
        "  Password = input(\"Create a password : \")\n",
        "  val = validate(Username, Password)\n",
        "  print(val)\n",
        "  if type(val) == dict:\n",
        "    file = open(\"database.txt\", \"a\")\n",
        "    data = val[\"user\"]+\",\"+ val[\"Pass1\"] +\"\\n\"\n",
        "    file.write(data)\n",
        "  else:\n",
        "    return val\n",
        "register()\n",
        "def validate(Username, Password):\n",
        "  u_pattern = '^[a-z0-9]+[\\._]?[a-z0-9]+[@]\\w+[.]\\w{2,3}$' \n",
        "  p_pattern = \"^(?=.*[a-z])(?=.*[A-Z])(?=.*\\d)(?=.*[@$!%*#?&])[A-Za-z\\d@$!#%*?&]{5,16}$\"\n",
        "  if re.match(u_pattern, Username):\n",
        "    if re.search(p_pattern,Password):\n",
        "      return {\"user\" : Username, \"Pass1\" : Password}\n",
        "    else:\n",
        "      return \"Password not match\"\n",
        "  else:\n",
        "    return \"Username failed \"\n",
        "def Login():\n",
        "  Username = input(\"Enter your username : \")\n",
        "  Password = input(\"Enter your password : \")\n",
        "  if type(val) == list:\n",
        "    file = open(\"database.txt\", \"r\")\n",
        "    login_info = line.split()\n",
        "    if Username == login_info[0] and Password == login_info[1]:\n",
        "      print(data)\n",
        "    else:\n",
        "      return val\n",
        "\n",
        "    \n",
        "      \n",
        "\n",
        "\n",
        "\n",
        "     "
      ],
      "metadata": {
        "colab": {
          "base_uri": "https://localhost:8080/"
        },
        "id": "uhOClNjppppt",
        "outputId": "02f3ec11-baaa-4668-bea8-805836ba6041"
      },
      "execution_count": 12,
      "outputs": [
        {
          "output_type": "stream",
          "name": "stdout",
          "text": [
            "Create username : sonia\n",
            "Create a password : Sonu@123\n",
            "Username failed \n"
          ]
        }
      ]
    },
    {
      "cell_type": "code",
      "source": [
        "def register():\n",
        "  Username = input(\"Create username : \")\n",
        "  Password = input(\"Create a password : \")\n",
        "  val = validate(Username, Password)\n",
        "  print(val)\n",
        "  if type(val) == dict:\n",
        "    file = open(\"database.txt\", \"a\")\n",
        "    data = val[\"user\"]+\",\"+ val[\"Pass1\"] +\"\\n\"\n",
        "    file.write(data)\n",
        "  else:\n",
        "    return val\n",
        "def validate(Username, Password):\n",
        "  u_pattern = '^[a-z0-9]+[\\._]?[a-z0-9]+[@]\\w+[.]\\w{2,3}$' \n",
        "  p_pattern = \"^(?=.*[a-z])(?=.*[A-Z])(?=.*\\d)(?=.*[@$!%*#?&])[A-Za-z\\d@$!#%*?&]{5,16}$\"\n",
        "  if re.match(u_pattern, Username):\n",
        "    if re.search(p_pattern,Password):\n",
        "      return {\"user\" : Username, \"Pass1\" : Password}\n",
        "    else:\n",
        "      return \"Password not match\"\n",
        "  else:\n",
        "    return \"Username failed \"\n",
        "def Login():\n",
        "  pass"
      ],
      "metadata": {
        "id": "V3hOi3Zo2Y2e"
      },
      "execution_count": 10,
      "outputs": []
    },
    {
      "cell_type": "code",
      "source": [
        "\n",
        "  \n"
      ],
      "metadata": {
        "id": "ns1XMSOyo6P1"
      },
      "execution_count": 9,
      "outputs": []
    }
  ]
}